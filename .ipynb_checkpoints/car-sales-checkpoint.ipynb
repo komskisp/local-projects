{
 "cells": [
  {
   "cell_type": "code",
   "execution_count": 4,
   "id": "d36e7b0e",
   "metadata": {},
   "outputs": [],
   "source": [
    "import vaex"
   ]
  },
  {
   "cell_type": "code",
   "execution_count": 6,
   "id": "365ca12b",
   "metadata": {
    "scrolled": true
   },
   "outputs": [
    {
     "data": {
      "text/html": [
       "<table>\n",
       "<thead>\n",
       "<tr><th>#                                  </th><th>id        </th><th>url                                                </th><th>region   </th><th>region_url                      </th><th>price  </th><th>year  </th><th>manufacturer  </th><th>model                        </th><th>condition  </th><th>cylinders    </th><th>fuel   </th><th>odometer  </th><th>title_status  </th><th>transmission  </th><th>VIN                </th><th>drive  </th><th>size      </th><th>type       </th><th>paint_color  </th><th>image_url                                          </th><th>description                                        </th><th>county  </th><th>state  </th><th>lat      </th><th>long      </th></tr>\n",
       "</thead>\n",
       "<tbody>\n",
       "<tr><td><i style='opacity: 0.6'>0</i>      </td><td>7307730503</td><td>&quot;&#x27;https://auburn.craigslist.org/cto/d/opelika-ha...</td><td>&#x27;auburn&#x27; </td><td>&#x27;https://auburn.craigslist.org&#x27; </td><td>9500   </td><td>2003.0</td><td>&#x27;chrysler&#x27;    </td><td>&#x27;town &amp; country&#x27;             </td><td>&#x27;excellent&#x27;</td><td>&#x27;6 cylinders&#x27;</td><td>&#x27;gas&#x27;  </td><td>30376.0   </td><td>&#x27;clean&#x27;       </td><td>&#x27;automatic&#x27;   </td><td>--                 </td><td>&#x27;fwd&#x27;  </td><td>&#x27;mid-size&#x27;</td><td>&#x27;mini-van&#x27; </td><td>&#x27;blue&#x27;       </td><td>&quot;&#x27;https://images.craigslist.org/00w0w_41YO8cHlW3...</td><td>&quot;&#x27;2003 Chrysler Town and Country Handicapped Acc...</td><td>nan     </td><td>&#x27;al&#x27;   </td><td>32.614209</td><td>-85.326357</td></tr>\n",
       "<tr><td><i style='opacity: 0.6'>1</i>      </td><td>7307218858</td><td>&quot;&#x27;https://auburn.craigslist.org/ctd/d/auburn-uni...</td><td>&#x27;auburn&#x27; </td><td>&#x27;https://auburn.craigslist.org&#x27; </td><td>28990  </td><td>2018.0</td><td>&#x27;gmc&#x27;         </td><td>&#x27;acadia sle-2 sport utility&#x27; </td><td>&#x27;good&#x27;     </td><td>&#x27;6 cylinders&#x27;</td><td>&#x27;gas&#x27;  </td><td>20736.0   </td><td>&#x27;clean&#x27;       </td><td>&#x27;other&#x27;       </td><td>&#x27;1GKKNLLS2JZ178034&#x27;</td><td>&#x27;fwd&#x27;  </td><td>--        </td><td>&#x27;other&#x27;    </td><td>&#x27;white&#x27;      </td><td>&quot;&#x27;https://images.craigslist.org/00c0c_kXhBir3Ii6...</td><td>&#x27;&quot;Carvana is the safer way to buy a car During t...</td><td>nan     </td><td>&#x27;al&#x27;   </td><td>32.59    </td><td>-85.48    </td></tr>\n",
       "<tr><td><i style='opacity: 0.6'>2</i>      </td><td>7307164168</td><td>&quot;&#x27;https://auburn.craigslist.org/ctd/d/auburn-uni...</td><td>&#x27;auburn&#x27; </td><td>&#x27;https://auburn.craigslist.org&#x27; </td><td>16590  </td><td>2013.0</td><td>&#x27;lincoln&#x27;     </td><td>&#x27;mkz sedan 4d&#x27;               </td><td>&#x27;good&#x27;     </td><td>--           </td><td>&#x27;gas&#x27;  </td><td>61087.0   </td><td>&#x27;clean&#x27;       </td><td>&#x27;other&#x27;       </td><td>&#x27;3LN6L2G99DR819673&#x27;</td><td>&#x27;fwd&#x27;  </td><td>--        </td><td>&#x27;sedan&#x27;    </td><td>&#x27;red&#x27;        </td><td>&quot;&#x27;https://images.craigslist.org/00N0N_1xMPvfxRAI...</td><td>&#x27;&quot;Carvana is the safer way to buy a car During t...</td><td>nan     </td><td>&#x27;al&#x27;   </td><td>32.59    </td><td>-85.48    </td></tr>\n",
       "<tr><td><i style='opacity: 0.6'>3</i>      </td><td>7307164193</td><td>&quot;&#x27;https://auburn.craigslist.org/ctd/d/auburn-uni...</td><td>&#x27;auburn&#x27; </td><td>&#x27;https://auburn.craigslist.org&#x27; </td><td>28990  </td><td>2017.0</td><td>&#x27;gmc&#x27;         </td><td>&#x27;acadia slt-1 sport utility&#x27; </td><td>&#x27;good&#x27;     </td><td>&#x27;6 cylinders&#x27;</td><td>&#x27;gas&#x27;  </td><td>18041.0   </td><td>&#x27;clean&#x27;       </td><td>&#x27;other&#x27;       </td><td>&#x27;1GKKNMLS2HZ305977&#x27;</td><td>&#x27;fwd&#x27;  </td><td>--        </td><td>&#x27;other&#x27;    </td><td>--           </td><td>&quot;&#x27;https://images.craigslist.org/00w0w_b3G8mxfApI...</td><td>&#x27;&quot;Carvana is the safer way to buy a car During t...</td><td>nan     </td><td>&#x27;al&#x27;   </td><td>32.59    </td><td>-85.48    </td></tr>\n",
       "<tr><td><i style='opacity: 0.6'>4</i>      </td><td>7307142186</td><td>&quot;&#x27;https://auburn.craigslist.org/ctd/d/auburn-uni...</td><td>&#x27;auburn&#x27; </td><td>&#x27;https://auburn.craigslist.org&#x27; </td><td>20590  </td><td>2017.0</td><td>&#x27;lincoln&#x27;     </td><td>&#x27;mkz premiere sedan 4d&#x27;      </td><td>&#x27;good&#x27;     </td><td>--           </td><td>&#x27;gas&#x27;  </td><td>36436.0   </td><td>&#x27;clean&#x27;       </td><td>&#x27;other&#x27;       </td><td>&#x27;3LN6L5A97HR666209&#x27;</td><td>&#x27;fwd&#x27;  </td><td>--        </td><td>&#x27;sedan&#x27;    </td><td>--           </td><td>&quot;&#x27;https://images.craigslist.org/00F0F_ghX7UUlnBr...</td><td>&#x27;&quot;Carvana is the safer way to buy a car During t...</td><td>nan     </td><td>&#x27;al&#x27;   </td><td>32.59    </td><td>-85.48    </td></tr>\n",
       "<tr><td>...                                </td><td>...       </td><td>...                                                </td><td>...      </td><td>...                             </td><td>...    </td><td>...   </td><td>...           </td><td>...                          </td><td>...        </td><td>...          </td><td>...    </td><td>...       </td><td>...           </td><td>...           </td><td>...                </td><td>...    </td><td>...       </td><td>...        </td><td>...          </td><td>...                                                </td><td>...                                                </td><td>...     </td><td>...    </td><td>...      </td><td>...       </td></tr>\n",
       "<tr><td><i style='opacity: 0.6'>441,391</i></td><td>7293621541</td><td>&quot;&#x27;https://wyoming.craigslist.org/ctd/d/atlanta-2...</td><td>&#x27;wyoming&#x27;</td><td>&#x27;https://wyoming.craigslist.org&#x27;</td><td>23590  </td><td>2017.0</td><td>&#x27;infiniti&#x27;    </td><td>&#x27;qx50 sport utility 4d&#x27;      </td><td>&#x27;good&#x27;     </td><td>&#x27;6 cylinders&#x27;</td><td>&#x27;gas&#x27;  </td><td>25738.0   </td><td>&#x27;clean&#x27;       </td><td>&#x27;automatic&#x27;   </td><td>&#x27;JN1BJ0RR8HM417266&#x27;</td><td>--     </td><td>--        </td><td>&#x27;hatchback&#x27;</td><td>&#x27;white&#x27;      </td><td>&quot;&#x27;https://images.craigslist.org/00V0V_gt24T7i4HR...</td><td>&#x27;&quot;Carvana is the safer way to buy a car During t...</td><td>nan     </td><td>&#x27;wy&#x27;   </td><td>33.7865  </td><td>-84.4454  </td></tr>\n",
       "<tr><td><i style='opacity: 0.6'>441,392</i></td><td>7293621536</td><td>&quot;&#x27;https://wyoming.craigslist.org/ctd/d/atlanta-2...</td><td>&#x27;wyoming&#x27;</td><td>&#x27;https://wyoming.craigslist.org&#x27;</td><td>16990  </td><td>2017.0</td><td>&#x27;buick&#x27;       </td><td>&#x27;regal sport touring sedan&#x27;  </td><td>&#x27;good&#x27;     </td><td>--           </td><td>&#x27;gas&#x27;  </td><td>36688.0   </td><td>&#x27;clean&#x27;       </td><td>&#x27;other&#x27;       </td><td>&#x27;2G4GL5EX5H9183790&#x27;</td><td>&#x27;fwd&#x27;  </td><td>--        </td><td>&#x27;sedan&#x27;    </td><td>&#x27;black&#x27;      </td><td>&quot;&#x27;https://images.craigslist.org/01212_fooFIrchs4...</td><td>&#x27;&quot;Carvana is the safer way to buy a car During t...</td><td>nan     </td><td>&#x27;wy&#x27;   </td><td>33.7865  </td><td>-84.4454  </td></tr>\n",
       "<tr><td><i style='opacity: 0.6'>441,393</i></td><td>7293621577</td><td>&quot;&#x27;https://wyoming.craigslist.org/ctd/d/atlanta-2...</td><td>&#x27;wyoming&#x27;</td><td>&#x27;https://wyoming.craigslist.org&#x27;</td><td>21590  </td><td>2013.0</td><td>&#x27;bmw&#x27;         </td><td>&#x27;5 series 535i sedan 4d&#x27;     </td><td>&#x27;good&#x27;     </td><td>--           </td><td>&#x27;other&#x27;</td><td>44366.0   </td><td>&#x27;clean&#x27;       </td><td>&#x27;automatic&#x27;   </td><td>&#x27;WBAFR7C55DC825016&#x27;</td><td>&#x27;rwd&#x27;  </td><td>--        </td><td>&#x27;sedan&#x27;    </td><td>&#x27;white&#x27;      </td><td>&quot;&#x27;https://images.craigslist.org/00l0l_bDLIr8C2DV...</td><td>&#x27;&quot;Carvana is the safer way to buy a car During t...</td><td>nan     </td><td>&#x27;wy&#x27;   </td><td>33.7865  </td><td>-84.4454  </td></tr>\n",
       "<tr><td><i style='opacity: 0.6'>441,394</i></td><td>7293621534</td><td>&quot;&#x27;https://wyoming.craigslist.org/ctd/d/atlanta-2...</td><td>&#x27;wyoming&#x27;</td><td>&#x27;https://wyoming.craigslist.org&#x27;</td><td>26990  </td><td>2016.0</td><td>&#x27;bmw&#x27;         </td><td>&#x27;4 series 435i gran coupe 4d&#x27;</td><td>&#x27;good&#x27;     </td><td>--           </td><td>&#x27;other&#x27;</td><td>43934.0   </td><td>&#x27;clean&#x27;       </td><td>&#x27;other&#x27;       </td><td>&#x27;WBA4B1C55GG242905&#x27;</td><td>--     </td><td>--        </td><td>&#x27;coupe&#x27;    </td><td>&#x27;black&#x27;      </td><td>&quot;&#x27;https://images.craigslist.org/00V0V_4QekZg6Tvu...</td><td>&#x27;&quot;Carvana is the safer way to buy a car During t...</td><td>nan     </td><td>&#x27;wy&#x27;   </td><td>33.7865  </td><td>-84.4454  </td></tr>\n",
       "<tr><td><i style='opacity: 0.6'>441,395</i></td><td>7293621515</td><td>&quot;&#x27;https://wyoming.craigslist.org/ctd/d/atlanta-2...</td><td>&#x27;wyoming&#x27;</td><td>&#x27;https://wyoming.craigslist.org&#x27;</td><td>19990  </td><td>2018.0</td><td>&#x27;buick&#x27;       </td><td>&#x27;envision preferred sport&#x27;   </td><td>&#x27;good&#x27;     </td><td>--           </td><td>&#x27;gas&#x27;  </td><td>33104.0   </td><td>&#x27;clean&#x27;       </td><td>&#x27;automatic&#x27;   </td><td>&#x27;LRBFXBSA8JD060284&#x27;</td><td>&#x27;fwd&#x27;  </td><td>--        </td><td>&#x27;SUV&#x27;      </td><td>&#x27;black&#x27;      </td><td>&quot;&#x27;https://images.craigslist.org/00b0b_4Ug4I72stY...</td><td>&#x27;&quot;Carvana is the safer way to buy a car During t...</td><td>nan     </td><td>&#x27;wy&#x27;   </td><td>33.7865  </td><td>-84.4454  </td></tr>\n",
       "</tbody>\n",
       "</table>"
      ],
      "text/plain": [
       "#        id          url                                                  region     region_url                        price    year    manufacturer    model                          condition    cylinders      fuel     odometer    title_status    transmission    VIN                  drive    size        type         paint_color    image_url                                            description                                          county    state    lat        long\n",
       "0        7307730503  \"'https://auburn.craigslist.org/cto/d/opelika-ha...  'auburn'   'https://auburn.craigslist.org'   9500     2003.0  'chrysler'      'town & country'               'excellent'  '6 cylinders'  'gas'    30376.0     'clean'         'automatic'     --                   'fwd'    'mid-size'  'mini-van'   'blue'         \"'https://images.craigslist.org/00w0w_41YO8cHlW3...  \"'2003 Chrysler Town and Country Handicapped Acc...  nan       'al'     32.614209  -85.326357\n",
       "1        7307218858  \"'https://auburn.craigslist.org/ctd/d/auburn-uni...  'auburn'   'https://auburn.craigslist.org'   28990    2018.0  'gmc'           'acadia sle-2 sport utility'   'good'       '6 cylinders'  'gas'    20736.0     'clean'         'other'         '1GKKNLLS2JZ178034'  'fwd'    --          'other'      'white'        \"'https://images.craigslist.org/00c0c_kXhBir3Ii6...  '\"Carvana is the safer way to buy a car During t...  nan       'al'     32.59      -85.48\n",
       "2        7307164168  \"'https://auburn.craigslist.org/ctd/d/auburn-uni...  'auburn'   'https://auburn.craigslist.org'   16590    2013.0  'lincoln'       'mkz sedan 4d'                 'good'       --             'gas'    61087.0     'clean'         'other'         '3LN6L2G99DR819673'  'fwd'    --          'sedan'      'red'          \"'https://images.craigslist.org/00N0N_1xMPvfxRAI...  '\"Carvana is the safer way to buy a car During t...  nan       'al'     32.59      -85.48\n",
       "3        7307164193  \"'https://auburn.craigslist.org/ctd/d/auburn-uni...  'auburn'   'https://auburn.craigslist.org'   28990    2017.0  'gmc'           'acadia slt-1 sport utility'   'good'       '6 cylinders'  'gas'    18041.0     'clean'         'other'         '1GKKNMLS2HZ305977'  'fwd'    --          'other'      --             \"'https://images.craigslist.org/00w0w_b3G8mxfApI...  '\"Carvana is the safer way to buy a car During t...  nan       'al'     32.59      -85.48\n",
       "4        7307142186  \"'https://auburn.craigslist.org/ctd/d/auburn-uni...  'auburn'   'https://auburn.craigslist.org'   20590    2017.0  'lincoln'       'mkz premiere sedan 4d'        'good'       --             'gas'    36436.0     'clean'         'other'         '3LN6L5A97HR666209'  'fwd'    --          'sedan'      --             \"'https://images.craigslist.org/00F0F_ghX7UUlnBr...  '\"Carvana is the safer way to buy a car During t...  nan       'al'     32.59      -85.48\n",
       "...      ...         ...                                                  ...        ...                               ...      ...     ...             ...                            ...          ...            ...      ...         ...             ...             ...                  ...      ...         ...          ...            ...                                                  ...                                                  ...       ...      ...        ...\n",
       "441,391  7293621541  \"'https://wyoming.craigslist.org/ctd/d/atlanta-2...  'wyoming'  'https://wyoming.craigslist.org'  23590    2017.0  'infiniti'      'qx50 sport utility 4d'        'good'       '6 cylinders'  'gas'    25738.0     'clean'         'automatic'     'JN1BJ0RR8HM417266'  --       --          'hatchback'  'white'        \"'https://images.craigslist.org/00V0V_gt24T7i4HR...  '\"Carvana is the safer way to buy a car During t...  nan       'wy'     33.7865    -84.4454\n",
       "441,392  7293621536  \"'https://wyoming.craigslist.org/ctd/d/atlanta-2...  'wyoming'  'https://wyoming.craigslist.org'  16990    2017.0  'buick'         'regal sport touring sedan'    'good'       --             'gas'    36688.0     'clean'         'other'         '2G4GL5EX5H9183790'  'fwd'    --          'sedan'      'black'        \"'https://images.craigslist.org/01212_fooFIrchs4...  '\"Carvana is the safer way to buy a car During t...  nan       'wy'     33.7865    -84.4454\n",
       "441,393  7293621577  \"'https://wyoming.craigslist.org/ctd/d/atlanta-2...  'wyoming'  'https://wyoming.craigslist.org'  21590    2013.0  'bmw'           '5 series 535i sedan 4d'       'good'       --             'other'  44366.0     'clean'         'automatic'     'WBAFR7C55DC825016'  'rwd'    --          'sedan'      'white'        \"'https://images.craigslist.org/00l0l_bDLIr8C2DV...  '\"Carvana is the safer way to buy a car During t...  nan       'wy'     33.7865    -84.4454\n",
       "441,394  7293621534  \"'https://wyoming.craigslist.org/ctd/d/atlanta-2...  'wyoming'  'https://wyoming.craigslist.org'  26990    2016.0  'bmw'           '4 series 435i gran coupe 4d'  'good'       --             'other'  43934.0     'clean'         'other'         'WBA4B1C55GG242905'  --       --          'coupe'      'black'        \"'https://images.craigslist.org/00V0V_4QekZg6Tvu...  '\"Carvana is the safer way to buy a car During t...  nan       'wy'     33.7865    -84.4454\n",
       "441,395  7293621515  \"'https://wyoming.craigslist.org/ctd/d/atlanta-2...  'wyoming'  'https://wyoming.craigslist.org'  19990    2018.0  'buick'         'envision preferred sport'     'good'       --             'gas'    33104.0     'clean'         'automatic'     'LRBFXBSA8JD060284'  'fwd'    --          'SUV'        'black'        \"'https://images.craigslist.org/00b0b_4Ug4I72stY...  '\"Carvana is the safer way to buy a car During t...  nan       'wy'     33.7865    -84.4454"
      ]
     },
     "execution_count": 6,
     "metadata": {},
     "output_type": "execute_result"
    }
   ],
   "source": [
    "df = vaex.from_csv('/Users/pauliuskomskis/Desktop/github/data/cars.csv', \n",
    "              copy_index=False, chunk_size=None, convert=False, \n",
    "              fs_options={}, fs=None)\n",
    "df"
   ]
  },
  {
   "cell_type": "code",
   "execution_count": 7,
   "id": "0c3aa9c0",
   "metadata": {
    "scrolled": true
   },
   "outputs": [
    {
     "name": "stdout",
     "output_type": "stream",
     "text": [
      "CPU times: user 6 µs, sys: 1 µs, total: 7 µs\n",
      "Wall time: 15 µs\n"
     ]
    },
    {
     "data": {
      "text/html": [
       "<table>\n",
       "<thead>\n",
       "<tr><th>#                                  </th><th>id        </th><th>url                                                </th><th>region   </th><th>region_url                      </th><th>price  </th><th>year  </th><th>manufacturer  </th><th>model                        </th><th>condition  </th><th>cylinders    </th><th>fuel   </th><th>odometer  </th><th>title_status  </th><th>transmission  </th><th>VIN                </th><th>drive  </th><th>size      </th><th>type       </th><th>paint_color  </th><th>image_url                                          </th><th>description                                        </th><th>county  </th><th>state  </th><th>lat      </th><th>long      </th></tr>\n",
       "</thead>\n",
       "<tbody>\n",
       "<tr><td><i style='opacity: 0.6'>0</i>      </td><td>7307730503</td><td>&quot;&#x27;https://auburn.craigslist.org/cto/d/opelika-ha...</td><td>&#x27;auburn&#x27; </td><td>&#x27;https://auburn.craigslist.org&#x27; </td><td>9500   </td><td>2003.0</td><td>&#x27;chrysler&#x27;    </td><td>&#x27;town &amp; country&#x27;             </td><td>&#x27;excellent&#x27;</td><td>&#x27;6 cylinders&#x27;</td><td>&#x27;gas&#x27;  </td><td>30376.0   </td><td>&#x27;clean&#x27;       </td><td>&#x27;automatic&#x27;   </td><td>--                 </td><td>&#x27;fwd&#x27;  </td><td>&#x27;mid-size&#x27;</td><td>&#x27;mini-van&#x27; </td><td>&#x27;blue&#x27;       </td><td>&quot;&#x27;https://images.craigslist.org/00w0w_41YO8cHlW3...</td><td>&quot;&#x27;2003 Chrysler Town and Country Handicapped Acc...</td><td>nan     </td><td>&#x27;al&#x27;   </td><td>32.614209</td><td>-85.326357</td></tr>\n",
       "<tr><td><i style='opacity: 0.6'>1</i>      </td><td>7307218858</td><td>&quot;&#x27;https://auburn.craigslist.org/ctd/d/auburn-uni...</td><td>&#x27;auburn&#x27; </td><td>&#x27;https://auburn.craigslist.org&#x27; </td><td>28990  </td><td>2018.0</td><td>&#x27;gmc&#x27;         </td><td>&#x27;acadia sle-2 sport utility&#x27; </td><td>&#x27;good&#x27;     </td><td>&#x27;6 cylinders&#x27;</td><td>&#x27;gas&#x27;  </td><td>20736.0   </td><td>&#x27;clean&#x27;       </td><td>&#x27;other&#x27;       </td><td>&#x27;1GKKNLLS2JZ178034&#x27;</td><td>&#x27;fwd&#x27;  </td><td>--        </td><td>&#x27;other&#x27;    </td><td>&#x27;white&#x27;      </td><td>&quot;&#x27;https://images.craigslist.org/00c0c_kXhBir3Ii6...</td><td>&#x27;&quot;Carvana is the safer way to buy a car During t...</td><td>nan     </td><td>&#x27;al&#x27;   </td><td>32.59    </td><td>-85.48    </td></tr>\n",
       "<tr><td><i style='opacity: 0.6'>2</i>      </td><td>7307164168</td><td>&quot;&#x27;https://auburn.craigslist.org/ctd/d/auburn-uni...</td><td>&#x27;auburn&#x27; </td><td>&#x27;https://auburn.craigslist.org&#x27; </td><td>16590  </td><td>2013.0</td><td>&#x27;lincoln&#x27;     </td><td>&#x27;mkz sedan 4d&#x27;               </td><td>&#x27;good&#x27;     </td><td>--           </td><td>&#x27;gas&#x27;  </td><td>61087.0   </td><td>&#x27;clean&#x27;       </td><td>&#x27;other&#x27;       </td><td>&#x27;3LN6L2G99DR819673&#x27;</td><td>&#x27;fwd&#x27;  </td><td>--        </td><td>&#x27;sedan&#x27;    </td><td>&#x27;red&#x27;        </td><td>&quot;&#x27;https://images.craigslist.org/00N0N_1xMPvfxRAI...</td><td>&#x27;&quot;Carvana is the safer way to buy a car During t...</td><td>nan     </td><td>&#x27;al&#x27;   </td><td>32.59    </td><td>-85.48    </td></tr>\n",
       "<tr><td><i style='opacity: 0.6'>3</i>      </td><td>7307164193</td><td>&quot;&#x27;https://auburn.craigslist.org/ctd/d/auburn-uni...</td><td>&#x27;auburn&#x27; </td><td>&#x27;https://auburn.craigslist.org&#x27; </td><td>28990  </td><td>2017.0</td><td>&#x27;gmc&#x27;         </td><td>&#x27;acadia slt-1 sport utility&#x27; </td><td>&#x27;good&#x27;     </td><td>&#x27;6 cylinders&#x27;</td><td>&#x27;gas&#x27;  </td><td>18041.0   </td><td>&#x27;clean&#x27;       </td><td>&#x27;other&#x27;       </td><td>&#x27;1GKKNMLS2HZ305977&#x27;</td><td>&#x27;fwd&#x27;  </td><td>--        </td><td>&#x27;other&#x27;    </td><td>--           </td><td>&quot;&#x27;https://images.craigslist.org/00w0w_b3G8mxfApI...</td><td>&#x27;&quot;Carvana is the safer way to buy a car During t...</td><td>nan     </td><td>&#x27;al&#x27;   </td><td>32.59    </td><td>-85.48    </td></tr>\n",
       "<tr><td><i style='opacity: 0.6'>4</i>      </td><td>7307142186</td><td>&quot;&#x27;https://auburn.craigslist.org/ctd/d/auburn-uni...</td><td>&#x27;auburn&#x27; </td><td>&#x27;https://auburn.craigslist.org&#x27; </td><td>20590  </td><td>2017.0</td><td>&#x27;lincoln&#x27;     </td><td>&#x27;mkz premiere sedan 4d&#x27;      </td><td>&#x27;good&#x27;     </td><td>--           </td><td>&#x27;gas&#x27;  </td><td>36436.0   </td><td>&#x27;clean&#x27;       </td><td>&#x27;other&#x27;       </td><td>&#x27;3LN6L5A97HR666209&#x27;</td><td>&#x27;fwd&#x27;  </td><td>--        </td><td>&#x27;sedan&#x27;    </td><td>--           </td><td>&quot;&#x27;https://images.craigslist.org/00F0F_ghX7UUlnBr...</td><td>&#x27;&quot;Carvana is the safer way to buy a car During t...</td><td>nan     </td><td>&#x27;al&#x27;   </td><td>32.59    </td><td>-85.48    </td></tr>\n",
       "<tr><td>...                                </td><td>...       </td><td>...                                                </td><td>...      </td><td>...                             </td><td>...    </td><td>...   </td><td>...           </td><td>...                          </td><td>...        </td><td>...          </td><td>...    </td><td>...       </td><td>...           </td><td>...           </td><td>...                </td><td>...    </td><td>...       </td><td>...        </td><td>...          </td><td>...                                                </td><td>...                                                </td><td>...     </td><td>...    </td><td>...      </td><td>...       </td></tr>\n",
       "<tr><td><i style='opacity: 0.6'>441,391</i></td><td>7293621541</td><td>&quot;&#x27;https://wyoming.craigslist.org/ctd/d/atlanta-2...</td><td>&#x27;wyoming&#x27;</td><td>&#x27;https://wyoming.craigslist.org&#x27;</td><td>23590  </td><td>2017.0</td><td>&#x27;infiniti&#x27;    </td><td>&#x27;qx50 sport utility 4d&#x27;      </td><td>&#x27;good&#x27;     </td><td>&#x27;6 cylinders&#x27;</td><td>&#x27;gas&#x27;  </td><td>25738.0   </td><td>&#x27;clean&#x27;       </td><td>&#x27;automatic&#x27;   </td><td>&#x27;JN1BJ0RR8HM417266&#x27;</td><td>--     </td><td>--        </td><td>&#x27;hatchback&#x27;</td><td>&#x27;white&#x27;      </td><td>&quot;&#x27;https://images.craigslist.org/00V0V_gt24T7i4HR...</td><td>&#x27;&quot;Carvana is the safer way to buy a car During t...</td><td>nan     </td><td>&#x27;wy&#x27;   </td><td>33.7865  </td><td>-84.4454  </td></tr>\n",
       "<tr><td><i style='opacity: 0.6'>441,392</i></td><td>7293621536</td><td>&quot;&#x27;https://wyoming.craigslist.org/ctd/d/atlanta-2...</td><td>&#x27;wyoming&#x27;</td><td>&#x27;https://wyoming.craigslist.org&#x27;</td><td>16990  </td><td>2017.0</td><td>&#x27;buick&#x27;       </td><td>&#x27;regal sport touring sedan&#x27;  </td><td>&#x27;good&#x27;     </td><td>--           </td><td>&#x27;gas&#x27;  </td><td>36688.0   </td><td>&#x27;clean&#x27;       </td><td>&#x27;other&#x27;       </td><td>&#x27;2G4GL5EX5H9183790&#x27;</td><td>&#x27;fwd&#x27;  </td><td>--        </td><td>&#x27;sedan&#x27;    </td><td>&#x27;black&#x27;      </td><td>&quot;&#x27;https://images.craigslist.org/01212_fooFIrchs4...</td><td>&#x27;&quot;Carvana is the safer way to buy a car During t...</td><td>nan     </td><td>&#x27;wy&#x27;   </td><td>33.7865  </td><td>-84.4454  </td></tr>\n",
       "<tr><td><i style='opacity: 0.6'>441,393</i></td><td>7293621577</td><td>&quot;&#x27;https://wyoming.craigslist.org/ctd/d/atlanta-2...</td><td>&#x27;wyoming&#x27;</td><td>&#x27;https://wyoming.craigslist.org&#x27;</td><td>21590  </td><td>2013.0</td><td>&#x27;bmw&#x27;         </td><td>&#x27;5 series 535i sedan 4d&#x27;     </td><td>&#x27;good&#x27;     </td><td>--           </td><td>&#x27;other&#x27;</td><td>44366.0   </td><td>&#x27;clean&#x27;       </td><td>&#x27;automatic&#x27;   </td><td>&#x27;WBAFR7C55DC825016&#x27;</td><td>&#x27;rwd&#x27;  </td><td>--        </td><td>&#x27;sedan&#x27;    </td><td>&#x27;white&#x27;      </td><td>&quot;&#x27;https://images.craigslist.org/00l0l_bDLIr8C2DV...</td><td>&#x27;&quot;Carvana is the safer way to buy a car During t...</td><td>nan     </td><td>&#x27;wy&#x27;   </td><td>33.7865  </td><td>-84.4454  </td></tr>\n",
       "<tr><td><i style='opacity: 0.6'>441,394</i></td><td>7293621534</td><td>&quot;&#x27;https://wyoming.craigslist.org/ctd/d/atlanta-2...</td><td>&#x27;wyoming&#x27;</td><td>&#x27;https://wyoming.craigslist.org&#x27;</td><td>26990  </td><td>2016.0</td><td>&#x27;bmw&#x27;         </td><td>&#x27;4 series 435i gran coupe 4d&#x27;</td><td>&#x27;good&#x27;     </td><td>--           </td><td>&#x27;other&#x27;</td><td>43934.0   </td><td>&#x27;clean&#x27;       </td><td>&#x27;other&#x27;       </td><td>&#x27;WBA4B1C55GG242905&#x27;</td><td>--     </td><td>--        </td><td>&#x27;coupe&#x27;    </td><td>&#x27;black&#x27;      </td><td>&quot;&#x27;https://images.craigslist.org/00V0V_4QekZg6Tvu...</td><td>&#x27;&quot;Carvana is the safer way to buy a car During t...</td><td>nan     </td><td>&#x27;wy&#x27;   </td><td>33.7865  </td><td>-84.4454  </td></tr>\n",
       "<tr><td><i style='opacity: 0.6'>441,395</i></td><td>7293621515</td><td>&quot;&#x27;https://wyoming.craigslist.org/ctd/d/atlanta-2...</td><td>&#x27;wyoming&#x27;</td><td>&#x27;https://wyoming.craigslist.org&#x27;</td><td>19990  </td><td>2018.0</td><td>&#x27;buick&#x27;       </td><td>&#x27;envision preferred sport&#x27;   </td><td>&#x27;good&#x27;     </td><td>--           </td><td>&#x27;gas&#x27;  </td><td>33104.0   </td><td>&#x27;clean&#x27;       </td><td>&#x27;automatic&#x27;   </td><td>&#x27;LRBFXBSA8JD060284&#x27;</td><td>&#x27;fwd&#x27;  </td><td>--        </td><td>&#x27;SUV&#x27;      </td><td>&#x27;black&#x27;      </td><td>&quot;&#x27;https://images.craigslist.org/00b0b_4Ug4I72stY...</td><td>&#x27;&quot;Carvana is the safer way to buy a car During t...</td><td>nan     </td><td>&#x27;wy&#x27;   </td><td>33.7865  </td><td>-84.4454  </td></tr>\n",
       "</tbody>\n",
       "</table>"
      ],
      "text/plain": [
       "#        id          url                                                  region     region_url                        price    year    manufacturer    model                          condition    cylinders      fuel     odometer    title_status    transmission    VIN                  drive    size        type         paint_color    image_url                                            description                                          county    state    lat        long\n",
       "0        7307730503  \"'https://auburn.craigslist.org/cto/d/opelika-ha...  'auburn'   'https://auburn.craigslist.org'   9500     2003.0  'chrysler'      'town & country'               'excellent'  '6 cylinders'  'gas'    30376.0     'clean'         'automatic'     --                   'fwd'    'mid-size'  'mini-van'   'blue'         \"'https://images.craigslist.org/00w0w_41YO8cHlW3...  \"'2003 Chrysler Town and Country Handicapped Acc...  nan       'al'     32.614209  -85.326357\n",
       "1        7307218858  \"'https://auburn.craigslist.org/ctd/d/auburn-uni...  'auburn'   'https://auburn.craigslist.org'   28990    2018.0  'gmc'           'acadia sle-2 sport utility'   'good'       '6 cylinders'  'gas'    20736.0     'clean'         'other'         '1GKKNLLS2JZ178034'  'fwd'    --          'other'      'white'        \"'https://images.craigslist.org/00c0c_kXhBir3Ii6...  '\"Carvana is the safer way to buy a car During t...  nan       'al'     32.59      -85.48\n",
       "2        7307164168  \"'https://auburn.craigslist.org/ctd/d/auburn-uni...  'auburn'   'https://auburn.craigslist.org'   16590    2013.0  'lincoln'       'mkz sedan 4d'                 'good'       --             'gas'    61087.0     'clean'         'other'         '3LN6L2G99DR819673'  'fwd'    --          'sedan'      'red'          \"'https://images.craigslist.org/00N0N_1xMPvfxRAI...  '\"Carvana is the safer way to buy a car During t...  nan       'al'     32.59      -85.48\n",
       "3        7307164193  \"'https://auburn.craigslist.org/ctd/d/auburn-uni...  'auburn'   'https://auburn.craigslist.org'   28990    2017.0  'gmc'           'acadia slt-1 sport utility'   'good'       '6 cylinders'  'gas'    18041.0     'clean'         'other'         '1GKKNMLS2HZ305977'  'fwd'    --          'other'      --             \"'https://images.craigslist.org/00w0w_b3G8mxfApI...  '\"Carvana is the safer way to buy a car During t...  nan       'al'     32.59      -85.48\n",
       "4        7307142186  \"'https://auburn.craigslist.org/ctd/d/auburn-uni...  'auburn'   'https://auburn.craigslist.org'   20590    2017.0  'lincoln'       'mkz premiere sedan 4d'        'good'       --             'gas'    36436.0     'clean'         'other'         '3LN6L5A97HR666209'  'fwd'    --          'sedan'      --             \"'https://images.craigslist.org/00F0F_ghX7UUlnBr...  '\"Carvana is the safer way to buy a car During t...  nan       'al'     32.59      -85.48\n",
       "...      ...         ...                                                  ...        ...                               ...      ...     ...             ...                            ...          ...            ...      ...         ...             ...             ...                  ...      ...         ...          ...            ...                                                  ...                                                  ...       ...      ...        ...\n",
       "441,391  7293621541  \"'https://wyoming.craigslist.org/ctd/d/atlanta-2...  'wyoming'  'https://wyoming.craigslist.org'  23590    2017.0  'infiniti'      'qx50 sport utility 4d'        'good'       '6 cylinders'  'gas'    25738.0     'clean'         'automatic'     'JN1BJ0RR8HM417266'  --       --          'hatchback'  'white'        \"'https://images.craigslist.org/00V0V_gt24T7i4HR...  '\"Carvana is the safer way to buy a car During t...  nan       'wy'     33.7865    -84.4454\n",
       "441,392  7293621536  \"'https://wyoming.craigslist.org/ctd/d/atlanta-2...  'wyoming'  'https://wyoming.craigslist.org'  16990    2017.0  'buick'         'regal sport touring sedan'    'good'       --             'gas'    36688.0     'clean'         'other'         '2G4GL5EX5H9183790'  'fwd'    --          'sedan'      'black'        \"'https://images.craigslist.org/01212_fooFIrchs4...  '\"Carvana is the safer way to buy a car During t...  nan       'wy'     33.7865    -84.4454\n",
       "441,393  7293621577  \"'https://wyoming.craigslist.org/ctd/d/atlanta-2...  'wyoming'  'https://wyoming.craigslist.org'  21590    2013.0  'bmw'           '5 series 535i sedan 4d'       'good'       --             'other'  44366.0     'clean'         'automatic'     'WBAFR7C55DC825016'  'rwd'    --          'sedan'      'white'        \"'https://images.craigslist.org/00l0l_bDLIr8C2DV...  '\"Carvana is the safer way to buy a car During t...  nan       'wy'     33.7865    -84.4454\n",
       "441,394  7293621534  \"'https://wyoming.craigslist.org/ctd/d/atlanta-2...  'wyoming'  'https://wyoming.craigslist.org'  26990    2016.0  'bmw'           '4 series 435i gran coupe 4d'  'good'       --             'other'  43934.0     'clean'         'other'         'WBA4B1C55GG242905'  --       --          'coupe'      'black'        \"'https://images.craigslist.org/00V0V_4QekZg6Tvu...  '\"Carvana is the safer way to buy a car During t...  nan       'wy'     33.7865    -84.4454\n",
       "441,395  7293621515  \"'https://wyoming.craigslist.org/ctd/d/atlanta-2...  'wyoming'  'https://wyoming.craigslist.org'  19990    2018.0  'buick'         'envision preferred sport'     'good'       --             'gas'    33104.0     'clean'         'automatic'     'LRBFXBSA8JD060284'  'fwd'    --          'SUV'        'black'        \"'https://images.craigslist.org/00b0b_4Ug4I72stY...  '\"Carvana is the safer way to buy a car During t...  nan       'wy'     33.7865    -84.4454"
      ]
     },
     "execution_count": 7,
     "metadata": {},
     "output_type": "execute_result"
    }
   ],
   "source": [
    "%%time\n",
    "df"
   ]
  },
  {
   "cell_type": "code",
   "execution_count": 26,
   "id": "bb11379a",
   "metadata": {},
   "outputs": [
    {
     "name": "stdout",
     "output_type": "stream",
     "text": [
      "CPU times: user 79.1 ms, sys: 6.83 ms, total: 85.9 ms\n",
      "Wall time: 84.6 ms\n"
     ]
    },
    {
     "name": "stderr",
     "output_type": "stream",
     "text": [
      "<timed eval>:1: DeprecationWarning: Call to deprecated function plot_widget: use df.widget.heatmap\n"
     ]
    },
    {
     "data": {
      "application/vnd.jupyter.widget-view+json": {
       "model_id": "6b02a68763424941a19d7f2582bb5a5b",
       "version_major": 2,
       "version_minor": 0
      },
      "text/plain": [
       "Heatmap(children=[ToolsToolbar(interact_value=None, supports_normalize=False, template='<template>\\n  <v-toolb…"
      ]
     },
     "metadata": {},
     "output_type": "display_data"
    }
   ],
   "source": [
    "%%time\n",
    "df.plot_widget(df['lat'],\n",
    "              df['long'],\n",
    "              shape=512,\n",
    "              limits='minmax',\n",
    "              f='log1p',\n",
    "              colormap='plasma')"
   ]
  },
  {
   "cell_type": "code",
   "execution_count": 29,
   "id": "9431c5b6",
   "metadata": {},
   "outputs": [
    {
     "ename": "AttributeError",
     "evalue": "'list' object has no attribute 'astype'",
     "output_type": "error",
     "traceback": [
      "\u001b[0;31m---------------------------------------------------------------------------\u001b[0m",
      "\u001b[0;31mAttributeError\u001b[0m                            Traceback (most recent call last)",
      "\u001b[0;32m<timed exec>\u001b[0m in \u001b[0;36m<module>\u001b[0;34m\u001b[0m\n",
      "\u001b[0;31mAttributeError\u001b[0m: 'list' object has no attribute 'astype'"
     ]
    }
   ],
   "source": [
    "%%time\n",
    "df_filt_low_price = df(['price'].astype('int') < 3000)\n",
    "plt.figure(figsize=(16,4))\n",
    "sns.barplot(x=df_filt_low_price.index, y=np.log10(df_filt_low_price.values))\n",
    "plt.xlabel('Price of car')\n",
    "plt.ylabel('Something')\n",
    "plt.xticks(rotation='45')\n",
    "plt.show()"
   ]
  },
  {
   "cell_type": "code",
   "execution_count": null,
   "id": "3ceb3786",
   "metadata": {},
   "outputs": [],
   "source": []
  }
 ],
 "metadata": {
  "kernelspec": {
   "display_name": "Python 3",
   "language": "python",
   "name": "python3"
  },
  "language_info": {
   "codemirror_mode": {
    "name": "ipython",
    "version": 3
   },
   "file_extension": ".py",
   "mimetype": "text/x-python",
   "name": "python",
   "nbconvert_exporter": "python",
   "pygments_lexer": "ipython3",
   "version": "3.9.1"
  }
 },
 "nbformat": 4,
 "nbformat_minor": 5
}
