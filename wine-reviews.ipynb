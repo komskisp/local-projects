{
 "cells": [
  {
   "cell_type": "markdown",
   "metadata": {},
   "source": [
    "## Wine data analysis\n",
    "### We shall be analysing a medium sized wine data set, in order to answer some of the questions we are keen to knowing, since we are a non-wine conosiour. The questions are as follows:"
   ]
  },
  {
   "cell_type": "markdown",
   "metadata": {},
   "source": [
    "1. What country produces the most highly rated wines?\n",
    "2. What province in that country produces the highly rated wines?\n",
    "3. What winery has the highest rated wines in that province?\n",
    "4. What are the high quality top producers?\n",
    "5. What wine VARIETY is specifically highly rated?\n",
    "6. What common description details are in the top rated wines?\n",
    "7. What are the price differences range between different countries?\n",
    "8. What "
   ]
  },
  {
   "cell_type": "code",
   "execution_count": 1,
   "metadata": {},
   "outputs": [],
   "source": [
    "import pandas as pd\n",
    "import matplotlib.pyplot as plt"
   ]
  },
  {
   "cell_type": "code",
   "execution_count": 2,
   "metadata": {},
   "outputs": [],
   "source": [
    "df = pd.read_csv('wine-reviews/first150.csv')"
   ]
  },
  {
   "cell_type": "code",
   "execution_count": 3,
   "metadata": {},
   "outputs": [
    {
     "data": {
      "text/html": [
       "<div>\n",
       "<style scoped>\n",
       "    .dataframe tbody tr th:only-of-type {\n",
       "        vertical-align: middle;\n",
       "    }\n",
       "\n",
       "    .dataframe tbody tr th {\n",
       "        vertical-align: top;\n",
       "    }\n",
       "\n",
       "    .dataframe thead th {\n",
       "        text-align: right;\n",
       "    }\n",
       "</style>\n",
       "<table border=\"1\" class=\"dataframe\">\n",
       "  <thead>\n",
       "    <tr style=\"text-align: right;\">\n",
       "      <th></th>\n",
       "      <th>Unnamed: 0</th>\n",
       "      <th>country</th>\n",
       "      <th>description</th>\n",
       "      <th>designation</th>\n",
       "      <th>points</th>\n",
       "      <th>price</th>\n",
       "      <th>province</th>\n",
       "      <th>region_1</th>\n",
       "      <th>region_2</th>\n",
       "      <th>variety</th>\n",
       "      <th>winery</th>\n",
       "    </tr>\n",
       "  </thead>\n",
       "  <tbody>\n",
       "    <tr>\n",
       "      <th>0</th>\n",
       "      <td>0</td>\n",
       "      <td>US</td>\n",
       "      <td>This tremendous 100% varietal wine hails from ...</td>\n",
       "      <td>Martha's Vineyard</td>\n",
       "      <td>96</td>\n",
       "      <td>235.0</td>\n",
       "      <td>California</td>\n",
       "      <td>Napa Valley</td>\n",
       "      <td>Napa</td>\n",
       "      <td>Cabernet Sauvignon</td>\n",
       "      <td>Heitz</td>\n",
       "    </tr>\n",
       "    <tr>\n",
       "      <th>1</th>\n",
       "      <td>1</td>\n",
       "      <td>Spain</td>\n",
       "      <td>Ripe aromas of fig, blackberry and cassis are ...</td>\n",
       "      <td>Carodorum Selección Especial Reserva</td>\n",
       "      <td>96</td>\n",
       "      <td>110.0</td>\n",
       "      <td>Northern Spain</td>\n",
       "      <td>Toro</td>\n",
       "      <td>NaN</td>\n",
       "      <td>Tinta de Toro</td>\n",
       "      <td>Bodega Carmen Rodríguez</td>\n",
       "    </tr>\n",
       "    <tr>\n",
       "      <th>2</th>\n",
       "      <td>2</td>\n",
       "      <td>US</td>\n",
       "      <td>Mac Watson honors the memory of a wine once ma...</td>\n",
       "      <td>Special Selected Late Harvest</td>\n",
       "      <td>96</td>\n",
       "      <td>90.0</td>\n",
       "      <td>California</td>\n",
       "      <td>Knights Valley</td>\n",
       "      <td>Sonoma</td>\n",
       "      <td>Sauvignon Blanc</td>\n",
       "      <td>Macauley</td>\n",
       "    </tr>\n",
       "  </tbody>\n",
       "</table>\n",
       "</div>"
      ],
      "text/plain": [
       "   Unnamed: 0 country                                        description  \\\n",
       "0           0      US  This tremendous 100% varietal wine hails from ...   \n",
       "1           1   Spain  Ripe aromas of fig, blackberry and cassis are ...   \n",
       "2           2      US  Mac Watson honors the memory of a wine once ma...   \n",
       "\n",
       "                            designation  points  price        province  \\\n",
       "0                     Martha's Vineyard      96  235.0      California   \n",
       "1  Carodorum Selección Especial Reserva      96  110.0  Northern Spain   \n",
       "2         Special Selected Late Harvest      96   90.0      California   \n",
       "\n",
       "         region_1 region_2             variety                   winery  \n",
       "0     Napa Valley     Napa  Cabernet Sauvignon                    Heitz  \n",
       "1            Toro      NaN       Tinta de Toro  Bodega Carmen Rodríguez  \n",
       "2  Knights Valley   Sonoma     Sauvignon Blanc                 Macauley  "
      ]
     },
     "execution_count": 3,
     "metadata": {},
     "output_type": "execute_result"
    }
   ],
   "source": [
    "df.head(3)"
   ]
  },
  {
   "cell_type": "markdown",
   "metadata": {},
   "source": [
    "- Lets import the second data to see whats up"
   ]
  },
  {
   "cell_type": "code",
   "execution_count": 4,
   "metadata": {},
   "outputs": [],
   "source": [
    "df2 = pd.read_csv('wine-reviews/second130k.csv')"
   ]
  },
  {
   "cell_type": "code",
   "execution_count": 5,
   "metadata": {
    "scrolled": false
   },
   "outputs": [
    {
     "data": {
      "text/html": [
       "<div>\n",
       "<style scoped>\n",
       "    .dataframe tbody tr th:only-of-type {\n",
       "        vertical-align: middle;\n",
       "    }\n",
       "\n",
       "    .dataframe tbody tr th {\n",
       "        vertical-align: top;\n",
       "    }\n",
       "\n",
       "    .dataframe thead th {\n",
       "        text-align: right;\n",
       "    }\n",
       "</style>\n",
       "<table border=\"1\" class=\"dataframe\">\n",
       "  <thead>\n",
       "    <tr style=\"text-align: right;\">\n",
       "      <th></th>\n",
       "      <th>Unnamed: 0</th>\n",
       "      <th>country</th>\n",
       "      <th>description</th>\n",
       "      <th>designation</th>\n",
       "      <th>points</th>\n",
       "      <th>price</th>\n",
       "      <th>province</th>\n",
       "      <th>region_1</th>\n",
       "      <th>region_2</th>\n",
       "      <th>taster_name</th>\n",
       "      <th>taster_twitter_handle</th>\n",
       "      <th>title</th>\n",
       "      <th>variety</th>\n",
       "      <th>winery</th>\n",
       "    </tr>\n",
       "  </thead>\n",
       "  <tbody>\n",
       "    <tr>\n",
       "      <th>0</th>\n",
       "      <td>0</td>\n",
       "      <td>Italy</td>\n",
       "      <td>Aromas include tropical fruit, broom, brimston...</td>\n",
       "      <td>Vulkà Bianco</td>\n",
       "      <td>87</td>\n",
       "      <td>NaN</td>\n",
       "      <td>Sicily &amp; Sardinia</td>\n",
       "      <td>Etna</td>\n",
       "      <td>NaN</td>\n",
       "      <td>Kerin O’Keefe</td>\n",
       "      <td>@kerinokeefe</td>\n",
       "      <td>Nicosia 2013 Vulkà Bianco  (Etna)</td>\n",
       "      <td>White Blend</td>\n",
       "      <td>Nicosia</td>\n",
       "    </tr>\n",
       "    <tr>\n",
       "      <th>1</th>\n",
       "      <td>1</td>\n",
       "      <td>Portugal</td>\n",
       "      <td>This is ripe and fruity, a wine that is smooth...</td>\n",
       "      <td>Avidagos</td>\n",
       "      <td>87</td>\n",
       "      <td>15.0</td>\n",
       "      <td>Douro</td>\n",
       "      <td>NaN</td>\n",
       "      <td>NaN</td>\n",
       "      <td>Roger Voss</td>\n",
       "      <td>@vossroger</td>\n",
       "      <td>Quinta dos Avidagos 2011 Avidagos Red (Douro)</td>\n",
       "      <td>Portuguese Red</td>\n",
       "      <td>Quinta dos Avidagos</td>\n",
       "    </tr>\n",
       "    <tr>\n",
       "      <th>2</th>\n",
       "      <td>2</td>\n",
       "      <td>US</td>\n",
       "      <td>Tart and snappy, the flavors of lime flesh and...</td>\n",
       "      <td>NaN</td>\n",
       "      <td>87</td>\n",
       "      <td>14.0</td>\n",
       "      <td>Oregon</td>\n",
       "      <td>Willamette Valley</td>\n",
       "      <td>Willamette Valley</td>\n",
       "      <td>Paul Gregutt</td>\n",
       "      <td>@paulgwine</td>\n",
       "      <td>Rainstorm 2013 Pinot Gris (Willamette Valley)</td>\n",
       "      <td>Pinot Gris</td>\n",
       "      <td>Rainstorm</td>\n",
       "    </tr>\n",
       "  </tbody>\n",
       "</table>\n",
       "</div>"
      ],
      "text/plain": [
       "   Unnamed: 0   country                                        description  \\\n",
       "0           0     Italy  Aromas include tropical fruit, broom, brimston...   \n",
       "1           1  Portugal  This is ripe and fruity, a wine that is smooth...   \n",
       "2           2        US  Tart and snappy, the flavors of lime flesh and...   \n",
       "\n",
       "    designation  points  price           province           region_1  \\\n",
       "0  Vulkà Bianco      87    NaN  Sicily & Sardinia               Etna   \n",
       "1      Avidagos      87   15.0              Douro                NaN   \n",
       "2           NaN      87   14.0             Oregon  Willamette Valley   \n",
       "\n",
       "            region_2    taster_name taster_twitter_handle  \\\n",
       "0                NaN  Kerin O’Keefe          @kerinokeefe   \n",
       "1                NaN     Roger Voss            @vossroger   \n",
       "2  Willamette Valley   Paul Gregutt           @paulgwine    \n",
       "\n",
       "                                           title         variety  \\\n",
       "0              Nicosia 2013 Vulkà Bianco  (Etna)     White Blend   \n",
       "1  Quinta dos Avidagos 2011 Avidagos Red (Douro)  Portuguese Red   \n",
       "2  Rainstorm 2013 Pinot Gris (Willamette Valley)      Pinot Gris   \n",
       "\n",
       "                winery  \n",
       "0              Nicosia  \n",
       "1  Quinta dos Avidagos  \n",
       "2            Rainstorm  "
      ]
     },
     "execution_count": 5,
     "metadata": {},
     "output_type": "execute_result"
    }
   ],
   "source": [
    "df2.head(3)"
   ]
  },
  {
   "cell_type": "markdown",
   "metadata": {},
   "source": [
    "### It appears the second data set has the individual taster names. Lets leave this data for now, to come back later"
   ]
  },
  {
   "cell_type": "code",
   "execution_count": 6,
   "metadata": {},
   "outputs": [
    {
     "data": {
      "text/plain": [
       "Index(['Unnamed: 0', 'country', 'description', 'designation', 'points',\n",
       "       'price', 'province', 'region_1', 'region_2', 'variety', 'winery'],\n",
       "      dtype='object')"
      ]
     },
     "execution_count": 6,
     "metadata": {},
     "output_type": "execute_result"
    }
   ],
   "source": [
    "df.columns"
   ]
  },
  {
   "cell_type": "code",
   "execution_count": 7,
   "metadata": {},
   "outputs": [],
   "source": [
    "df.drop('Unnamed: 0', axis = 1, inplace=True)"
   ]
  },
  {
   "cell_type": "markdown",
   "metadata": {},
   "source": [
    "## 1. What country produces the most highly rated wines?"
   ]
  },
  {
   "cell_type": "code",
   "execution_count": 8,
   "metadata": {},
   "outputs": [
    {
     "data": {
      "text/plain": [
       "'US'"
      ]
     },
     "execution_count": 8,
     "metadata": {},
     "output_type": "execute_result"
    }
   ],
   "source": [
    "country_filt = df['points'].astype('int').max()\n",
    "df.loc[country_filt, 'country']"
   ]
  },
  {
   "cell_type": "markdown",
   "metadata": {},
   "source": [
    "-A quick filter lets us see from 150,000 rows of data, that US is the country that offers highest rated wines. Strange. I would have thought France, Italy. Live and learn eh."
   ]
  },
  {
   "cell_type": "code",
   "execution_count": 9,
   "metadata": {},
   "outputs": [],
   "source": [
    "df['points'] = df['points'].astype('str')"
   ]
  },
  {
   "cell_type": "markdown",
   "metadata": {},
   "source": [
    "- How many wineries of each country has a score of 100?"
   ]
  },
  {
   "cell_type": "code",
   "execution_count": 10,
   "metadata": {
    "scrolled": true
   },
   "outputs": [
    {
     "data": {
      "text/plain": [
       "US                        62397\n",
       "Italy                     23478\n",
       "France                    21098\n",
       "Spain                      8268\n",
       "Chile                      5816\n",
       "Argentina                  5631\n",
       "Portugal                   5322\n",
       "Australia                  4957\n",
       "New Zealand                3320\n",
       "Austria                    3057\n",
       "Germany                    2452\n",
       "South Africa               2258\n",
       "Greece                      884\n",
       "Israel                      630\n",
       "Hungary                     231\n",
       "Canada                      196\n",
       "Romania                     139\n",
       "Slovenia                     94\n",
       "Uruguay                      92\n",
       "Croatia                      89\n",
       "Bulgaria                     77\n",
       "Moldova                      71\n",
       "Mexico                       63\n",
       "Turkey                       52\n",
       "Georgia                      43\n",
       "Lebanon                      37\n",
       "Cyprus                       31\n",
       "Brazil                       25\n",
       "Macedonia                    16\n",
       "Serbia                       14\n",
       "Morocco                      12\n",
       "England                       9\n",
       "Luxembourg                    9\n",
       "India                         8\n",
       "Lithuania                     8\n",
       "Czech Republic                6\n",
       "Ukraine                       5\n",
       "Bosnia and Herzegovina        4\n",
       "Switzerland                   4\n",
       "South Korea                   4\n",
       "Slovakia                      3\n",
       "Egypt                         3\n",
       "China                         3\n",
       "Montenegro                    2\n",
       "Tunisia                       2\n",
       "Japan                         2\n",
       "Albania                       2\n",
       "US-France                     1\n",
       "Name: country, dtype: int64"
      ]
     },
     "execution_count": 10,
     "metadata": {},
     "output_type": "execute_result"
    }
   ],
   "source": [
    "df['country'].value_counts()"
   ]
  },
  {
   "cell_type": "code",
   "execution_count": 11,
   "metadata": {
    "scrolled": true
   },
   "outputs": [
    {
     "data": {
      "text/plain": [
       "country\n",
       "Albania                   88\n",
       "Argentina                 97\n",
       "Australia                 98\n",
       "Austria                   98\n",
       "Bosnia and Herzegovina    88\n",
       "Brazil                    88\n",
       "Bulgaria                  90\n",
       "Canada                    93\n",
       "Chile                     95\n",
       "China                     82\n",
       "Croatia                   91\n",
       "Cyprus                    89\n",
       "Czech Republic            87\n",
       "Egypt                     84\n",
       "England                   94\n",
       "France                    99\n",
       "Georgia                   92\n",
       "Germany                   97\n",
       "Greece                    92\n",
       "Hungary                   96\n",
       "India                     91\n",
       "Israel                    93\n",
       "Italy                     99\n",
       "Japan                     85\n",
       "Lebanon                   91\n",
       "Lithuania                 85\n",
       "Luxembourg                88\n",
       "Macedonia                 89\n",
       "Mexico                    92\n",
       "Moldova                   90\n",
       "Montenegro                82\n",
       "Morocco                   93\n",
       "New Zealand               94\n",
       "Portugal                  99\n",
       "Romania                   92\n",
       "Serbia                    89\n",
       "Slovakia                  87\n",
       "Slovenia                  92\n",
       "South Africa              95\n",
       "South Korea               82\n",
       "Spain                     98\n",
       "Switzerland               90\n",
       "Tunisia                   87\n",
       "Turkey                    92\n",
       "US                        99\n",
       "US-France                 88\n",
       "Ukraine                   86\n",
       "Uruguay                   90\n",
       "Name: points, dtype: object"
      ]
     },
     "execution_count": 11,
     "metadata": {},
     "output_type": "execute_result"
    }
   ],
   "source": [
    "country_grp = df.groupby(['country'])\n",
    "country_grp['points'].max()"
   ]
  },
  {
   "cell_type": "code",
   "execution_count": 12,
   "metadata": {
    "scrolled": true
   },
   "outputs": [
    {
     "data": {
      "text/plain": [
       "country    points\n",
       "Albania    88          2\n",
       "Argentina  87        700\n",
       "           86        678\n",
       "           85        671\n",
       "           84        636\n",
       "                    ... \n",
       "Uruguay    80          6\n",
       "           85          6\n",
       "           87          6\n",
       "           88          6\n",
       "           90          2\n",
       "Name: points, Length: 455, dtype: int64"
      ]
     },
     "execution_count": 12,
     "metadata": {},
     "output_type": "execute_result"
    }
   ],
   "source": [
    "country_grp['points'].value_counts()"
   ]
  },
  {
   "cell_type": "code",
   "execution_count": 13,
   "metadata": {
    "scrolled": true
   },
   "outputs": [
    {
     "data": {
      "text/plain": [
       "country\n",
       "Albania                    0\n",
       "Argentina                  0\n",
       "Australia                  3\n",
       "Austria                    0\n",
       "Bosnia and Herzegovina     0\n",
       "Brazil                     0\n",
       "Bulgaria                   0\n",
       "Canada                     0\n",
       "Chile                      0\n",
       "China                      0\n",
       "Croatia                    0\n",
       "Cyprus                     0\n",
       "Czech Republic             0\n",
       "Egypt                      0\n",
       "England                    0\n",
       "France                     4\n",
       "Georgia                    0\n",
       "Germany                    0\n",
       "Greece                     0\n",
       "Hungary                    0\n",
       "India                      0\n",
       "Israel                     0\n",
       "Italy                      7\n",
       "Japan                      0\n",
       "Lebanon                    0\n",
       "Lithuania                  0\n",
       "Luxembourg                 0\n",
       "Macedonia                  0\n",
       "Mexico                     0\n",
       "Moldova                    0\n",
       "Montenegro                 0\n",
       "Morocco                    0\n",
       "New Zealand                0\n",
       "Portugal                   0\n",
       "Romania                    0\n",
       "Serbia                     0\n",
       "Slovakia                   0\n",
       "Slovenia                   0\n",
       "South Africa               0\n",
       "South Korea                0\n",
       "Spain                      0\n",
       "Switzerland                0\n",
       "Tunisia                    0\n",
       "Turkey                     0\n",
       "US                        10\n",
       "US-France                  0\n",
       "Ukraine                    0\n",
       "Uruguay                    0\n",
       "Name: points, dtype: int64"
      ]
     },
     "execution_count": 13,
     "metadata": {},
     "output_type": "execute_result"
    }
   ],
   "source": [
    "max_pts = country_grp['points'].apply(lambda x: x.str.contains('100').sum())\n",
    "max_pts"
   ]
  },
  {
   "cell_type": "markdown",
   "metadata": {},
   "source": [
    "- it appears that only Australia, Italy, France and US has wineries that scored a perfect 100. Lets find out more about those perfect wineries"
   ]
  },
  {
   "cell_type": "markdown",
   "metadata": {},
   "source": [
    "## 2. What province in United States produces most of the highest rated wines?"
   ]
  },
  {
   "cell_type": "code",
   "execution_count": 14,
   "metadata": {},
   "outputs": [],
   "source": [
    "df['points'] = df['points'].astype('int')"
   ]
  },
  {
   "cell_type": "code",
   "execution_count": 15,
   "metadata": {},
   "outputs": [
    {
     "data": {
      "text/plain": [
       "'California'"
      ]
     },
     "execution_count": 15,
     "metadata": {},
     "output_type": "execute_result"
    }
   ],
   "source": [
    "province_filt = df['points'].max('country'=='US')\n",
    "df.loc[province_filt, 'province']"
   ]
  },
  {
   "cell_type": "code",
   "execution_count": 16,
   "metadata": {},
   "outputs": [
    {
     "data": {
      "text/plain": [
       "7"
      ]
     },
     "execution_count": 16,
     "metadata": {},
     "output_type": "execute_result"
    }
   ],
   "source": [
    "df['points'] = df['points'].astype('str')\n",
    "ca_filt = df['province'] == 'California'\n",
    "df.loc[ca_filt]['points'].str.contains('100').sum()"
   ]
  },
  {
   "cell_type": "markdown",
   "metadata": {},
   "source": [
    "- So there are 7 entries in California where the points score a 100"
   ]
  },
  {
   "cell_type": "markdown",
   "metadata": {},
   "source": [
    "### 3. What are the top rated wineries in the California province?"
   ]
  },
  {
   "cell_type": "code",
   "execution_count": 17,
   "metadata": {},
   "outputs": [],
   "source": [
    "df['points'] = df['points'].astype('int')\n",
    "winery_filt = (df['points'] > 99) & (df['province'] == 'California')\n"
   ]
  },
  {
   "cell_type": "code",
   "execution_count": 18,
   "metadata": {
    "scrolled": true
   },
   "outputs": [
    {
     "data": {
      "text/html": [
       "<div>\n",
       "<style scoped>\n",
       "    .dataframe tbody tr th:only-of-type {\n",
       "        vertical-align: middle;\n",
       "    }\n",
       "\n",
       "    .dataframe tbody tr th {\n",
       "        vertical-align: top;\n",
       "    }\n",
       "\n",
       "    .dataframe thead th {\n",
       "        text-align: right;\n",
       "    }\n",
       "</style>\n",
       "<table border=\"1\" class=\"dataframe\">\n",
       "  <thead>\n",
       "    <tr style=\"text-align: right;\">\n",
       "      <th></th>\n",
       "      <th>country</th>\n",
       "      <th>description</th>\n",
       "      <th>designation</th>\n",
       "      <th>points</th>\n",
       "      <th>price</th>\n",
       "      <th>province</th>\n",
       "      <th>region_1</th>\n",
       "      <th>region_2</th>\n",
       "      <th>variety</th>\n",
       "      <th>winery</th>\n",
       "    </tr>\n",
       "  </thead>\n",
       "  <tbody>\n",
       "    <tr>\n",
       "      <th>89399</th>\n",
       "      <td>US</td>\n",
       "      <td>Tasted in a flight of great and famous Napa wi...</td>\n",
       "      <td>NaN</td>\n",
       "      <td>100</td>\n",
       "      <td>200.0</td>\n",
       "      <td>California</td>\n",
       "      <td>Napa Valley</td>\n",
       "      <td>Napa</td>\n",
       "      <td>Cabernet Sauvignon</td>\n",
       "      <td>Cardinale</td>\n",
       "    </tr>\n",
       "    <tr>\n",
       "      <th>92916</th>\n",
       "      <td>US</td>\n",
       "      <td>A perfect score has to be considered in the co...</td>\n",
       "      <td>Hillside Select</td>\n",
       "      <td>100</td>\n",
       "      <td>215.0</td>\n",
       "      <td>California</td>\n",
       "      <td>Stags Leap District</td>\n",
       "      <td>Napa</td>\n",
       "      <td>Cabernet Sauvignon</td>\n",
       "      <td>Shafer</td>\n",
       "    </tr>\n",
       "    <tr>\n",
       "      <th>98647</th>\n",
       "      <td>US</td>\n",
       "      <td>A spectacular Pinot Noir, but a very young one...</td>\n",
       "      <td>Litton Estate Vineyard</td>\n",
       "      <td>100</td>\n",
       "      <td>100.0</td>\n",
       "      <td>California</td>\n",
       "      <td>Russian River Valley</td>\n",
       "      <td>Sonoma</td>\n",
       "      <td>Pinot Noir</td>\n",
       "      <td>Williams Selyem</td>\n",
       "    </tr>\n",
       "    <tr>\n",
       "      <th>114272</th>\n",
       "      <td>US</td>\n",
       "      <td>Impossibly aromatic. Hard to imagine greater c...</td>\n",
       "      <td>Red Wine</td>\n",
       "      <td>100</td>\n",
       "      <td>245.0</td>\n",
       "      <td>California</td>\n",
       "      <td>Rutherford</td>\n",
       "      <td>Napa</td>\n",
       "      <td>Cabernet Blend</td>\n",
       "      <td>Sloan</td>\n",
       "    </tr>\n",
       "    <tr>\n",
       "      <th>122767</th>\n",
       "      <td>US</td>\n",
       "      <td>A spectacular Pinot Noir, but a very young one...</td>\n",
       "      <td>Litton Estate Vineyard</td>\n",
       "      <td>100</td>\n",
       "      <td>100.0</td>\n",
       "      <td>California</td>\n",
       "      <td>Russian River Valley</td>\n",
       "      <td>Sonoma</td>\n",
       "      <td>Pinot Noir</td>\n",
       "      <td>Williams Selyem</td>\n",
       "    </tr>\n",
       "    <tr>\n",
       "      <th>137099</th>\n",
       "      <td>US</td>\n",
       "      <td>Tasted in a flight of great and famous Napa wi...</td>\n",
       "      <td>NaN</td>\n",
       "      <td>100</td>\n",
       "      <td>200.0</td>\n",
       "      <td>California</td>\n",
       "      <td>Napa Valley</td>\n",
       "      <td>Napa</td>\n",
       "      <td>Cabernet Sauvignon</td>\n",
       "      <td>Cardinale</td>\n",
       "    </tr>\n",
       "    <tr>\n",
       "      <th>143522</th>\n",
       "      <td>US</td>\n",
       "      <td>Impossibly aromatic. Hard to imagine greater c...</td>\n",
       "      <td>Red Wine</td>\n",
       "      <td>100</td>\n",
       "      <td>245.0</td>\n",
       "      <td>California</td>\n",
       "      <td>Rutherford</td>\n",
       "      <td>Napa</td>\n",
       "      <td>Cabernet Blend</td>\n",
       "      <td>Sloan</td>\n",
       "    </tr>\n",
       "  </tbody>\n",
       "</table>\n",
       "</div>"
      ],
      "text/plain": [
       "       country                                        description  \\\n",
       "89399       US  Tasted in a flight of great and famous Napa wi...   \n",
       "92916       US  A perfect score has to be considered in the co...   \n",
       "98647       US  A spectacular Pinot Noir, but a very young one...   \n",
       "114272      US  Impossibly aromatic. Hard to imagine greater c...   \n",
       "122767      US  A spectacular Pinot Noir, but a very young one...   \n",
       "137099      US  Tasted in a flight of great and famous Napa wi...   \n",
       "143522      US  Impossibly aromatic. Hard to imagine greater c...   \n",
       "\n",
       "                   designation  points  price    province  \\\n",
       "89399                      NaN     100  200.0  California   \n",
       "92916          Hillside Select     100  215.0  California   \n",
       "98647   Litton Estate Vineyard     100  100.0  California   \n",
       "114272                Red Wine     100  245.0  California   \n",
       "122767  Litton Estate Vineyard     100  100.0  California   \n",
       "137099                     NaN     100  200.0  California   \n",
       "143522                Red Wine     100  245.0  California   \n",
       "\n",
       "                    region_1 region_2             variety           winery  \n",
       "89399            Napa Valley     Napa  Cabernet Sauvignon        Cardinale  \n",
       "92916    Stags Leap District     Napa  Cabernet Sauvignon           Shafer  \n",
       "98647   Russian River Valley   Sonoma          Pinot Noir  Williams Selyem  \n",
       "114272            Rutherford     Napa      Cabernet Blend            Sloan  \n",
       "122767  Russian River Valley   Sonoma          Pinot Noir  Williams Selyem  \n",
       "137099           Napa Valley     Napa  Cabernet Sauvignon        Cardinale  \n",
       "143522            Rutherford     Napa      Cabernet Blend            Sloan  "
      ]
     },
     "execution_count": 18,
     "metadata": {},
     "output_type": "execute_result"
    }
   ],
   "source": [
    "df.loc[winery_filt]"
   ]
  },
  {
   "cell_type": "markdown",
   "metadata": {},
   "source": [
    "### 4. What are the top rated wineries in all of United States:"
   ]
  },
  {
   "cell_type": "code",
   "execution_count": 19,
   "metadata": {
    "scrolled": true
   },
   "outputs": [
    {
     "data": {
      "text/html": [
       "<div>\n",
       "<style scoped>\n",
       "    .dataframe tbody tr th:only-of-type {\n",
       "        vertical-align: middle;\n",
       "    }\n",
       "\n",
       "    .dataframe tbody tr th {\n",
       "        vertical-align: top;\n",
       "    }\n",
       "\n",
       "    .dataframe thead th {\n",
       "        text-align: right;\n",
       "    }\n",
       "</style>\n",
       "<table border=\"1\" class=\"dataframe\">\n",
       "  <thead>\n",
       "    <tr style=\"text-align: right;\">\n",
       "      <th></th>\n",
       "      <th>country</th>\n",
       "      <th>description</th>\n",
       "      <th>designation</th>\n",
       "      <th>points</th>\n",
       "      <th>price</th>\n",
       "      <th>province</th>\n",
       "      <th>region_1</th>\n",
       "      <th>region_2</th>\n",
       "      <th>variety</th>\n",
       "      <th>winery</th>\n",
       "    </tr>\n",
       "  </thead>\n",
       "  <tbody>\n",
       "    <tr>\n",
       "      <th>19354</th>\n",
       "      <td>US</td>\n",
       "      <td>In a stunning lineup of Cayuse Syrahs, the En ...</td>\n",
       "      <td>En Chamberlin Vineyard</td>\n",
       "      <td>100</td>\n",
       "      <td>65.0</td>\n",
       "      <td>Oregon</td>\n",
       "      <td>Walla Walla Valley (OR)</td>\n",
       "      <td>Oregon Other</td>\n",
       "      <td>Syrah</td>\n",
       "      <td>Cayuse</td>\n",
       "    </tr>\n",
       "    <tr>\n",
       "      <th>84034</th>\n",
       "      <td>US</td>\n",
       "      <td>In a stunning lineup of Cayuse Syrahs, the En ...</td>\n",
       "      <td>En Chamberlin Vineyard</td>\n",
       "      <td>100</td>\n",
       "      <td>65.0</td>\n",
       "      <td>Oregon</td>\n",
       "      <td>Walla Walla Valley (OR)</td>\n",
       "      <td>Oregon Other</td>\n",
       "      <td>Syrah</td>\n",
       "      <td>Cayuse</td>\n",
       "    </tr>\n",
       "    <tr>\n",
       "      <th>89399</th>\n",
       "      <td>US</td>\n",
       "      <td>Tasted in a flight of great and famous Napa wi...</td>\n",
       "      <td>NaN</td>\n",
       "      <td>100</td>\n",
       "      <td>200.0</td>\n",
       "      <td>California</td>\n",
       "      <td>Napa Valley</td>\n",
       "      <td>Napa</td>\n",
       "      <td>Cabernet Sauvignon</td>\n",
       "      <td>Cardinale</td>\n",
       "    </tr>\n",
       "    <tr>\n",
       "      <th>92916</th>\n",
       "      <td>US</td>\n",
       "      <td>A perfect score has to be considered in the co...</td>\n",
       "      <td>Hillside Select</td>\n",
       "      <td>100</td>\n",
       "      <td>215.0</td>\n",
       "      <td>California</td>\n",
       "      <td>Stags Leap District</td>\n",
       "      <td>Napa</td>\n",
       "      <td>Cabernet Sauvignon</td>\n",
       "      <td>Shafer</td>\n",
       "    </tr>\n",
       "    <tr>\n",
       "      <th>98647</th>\n",
       "      <td>US</td>\n",
       "      <td>A spectacular Pinot Noir, but a very young one...</td>\n",
       "      <td>Litton Estate Vineyard</td>\n",
       "      <td>100</td>\n",
       "      <td>100.0</td>\n",
       "      <td>California</td>\n",
       "      <td>Russian River Valley</td>\n",
       "      <td>Sonoma</td>\n",
       "      <td>Pinot Noir</td>\n",
       "      <td>Williams Selyem</td>\n",
       "    </tr>\n",
       "    <tr>\n",
       "      <th>114272</th>\n",
       "      <td>US</td>\n",
       "      <td>Impossibly aromatic. Hard to imagine greater c...</td>\n",
       "      <td>Red Wine</td>\n",
       "      <td>100</td>\n",
       "      <td>245.0</td>\n",
       "      <td>California</td>\n",
       "      <td>Rutherford</td>\n",
       "      <td>Napa</td>\n",
       "      <td>Cabernet Blend</td>\n",
       "      <td>Sloan</td>\n",
       "    </tr>\n",
       "    <tr>\n",
       "      <th>119194</th>\n",
       "      <td>US</td>\n",
       "      <td>In a stunning lineup of Cayuse Syrahs, the En ...</td>\n",
       "      <td>En Chamberlin Vineyard</td>\n",
       "      <td>100</td>\n",
       "      <td>65.0</td>\n",
       "      <td>Oregon</td>\n",
       "      <td>Walla Walla Valley (OR)</td>\n",
       "      <td>Oregon Other</td>\n",
       "      <td>Syrah</td>\n",
       "      <td>Cayuse</td>\n",
       "    </tr>\n",
       "    <tr>\n",
       "      <th>122767</th>\n",
       "      <td>US</td>\n",
       "      <td>A spectacular Pinot Noir, but a very young one...</td>\n",
       "      <td>Litton Estate Vineyard</td>\n",
       "      <td>100</td>\n",
       "      <td>100.0</td>\n",
       "      <td>California</td>\n",
       "      <td>Russian River Valley</td>\n",
       "      <td>Sonoma</td>\n",
       "      <td>Pinot Noir</td>\n",
       "      <td>Williams Selyem</td>\n",
       "    </tr>\n",
       "    <tr>\n",
       "      <th>137099</th>\n",
       "      <td>US</td>\n",
       "      <td>Tasted in a flight of great and famous Napa wi...</td>\n",
       "      <td>NaN</td>\n",
       "      <td>100</td>\n",
       "      <td>200.0</td>\n",
       "      <td>California</td>\n",
       "      <td>Napa Valley</td>\n",
       "      <td>Napa</td>\n",
       "      <td>Cabernet Sauvignon</td>\n",
       "      <td>Cardinale</td>\n",
       "    </tr>\n",
       "    <tr>\n",
       "      <th>143522</th>\n",
       "      <td>US</td>\n",
       "      <td>Impossibly aromatic. Hard to imagine greater c...</td>\n",
       "      <td>Red Wine</td>\n",
       "      <td>100</td>\n",
       "      <td>245.0</td>\n",
       "      <td>California</td>\n",
       "      <td>Rutherford</td>\n",
       "      <td>Napa</td>\n",
       "      <td>Cabernet Blend</td>\n",
       "      <td>Sloan</td>\n",
       "    </tr>\n",
       "  </tbody>\n",
       "</table>\n",
       "</div>"
      ],
      "text/plain": [
       "       country                                        description  \\\n",
       "19354       US  In a stunning lineup of Cayuse Syrahs, the En ...   \n",
       "84034       US  In a stunning lineup of Cayuse Syrahs, the En ...   \n",
       "89399       US  Tasted in a flight of great and famous Napa wi...   \n",
       "92916       US  A perfect score has to be considered in the co...   \n",
       "98647       US  A spectacular Pinot Noir, but a very young one...   \n",
       "114272      US  Impossibly aromatic. Hard to imagine greater c...   \n",
       "119194      US  In a stunning lineup of Cayuse Syrahs, the En ...   \n",
       "122767      US  A spectacular Pinot Noir, but a very young one...   \n",
       "137099      US  Tasted in a flight of great and famous Napa wi...   \n",
       "143522      US  Impossibly aromatic. Hard to imagine greater c...   \n",
       "\n",
       "                   designation  points  price    province  \\\n",
       "19354   En Chamberlin Vineyard     100   65.0      Oregon   \n",
       "84034   En Chamberlin Vineyard     100   65.0      Oregon   \n",
       "89399                      NaN     100  200.0  California   \n",
       "92916          Hillside Select     100  215.0  California   \n",
       "98647   Litton Estate Vineyard     100  100.0  California   \n",
       "114272                Red Wine     100  245.0  California   \n",
       "119194  En Chamberlin Vineyard     100   65.0      Oregon   \n",
       "122767  Litton Estate Vineyard     100  100.0  California   \n",
       "137099                     NaN     100  200.0  California   \n",
       "143522                Red Wine     100  245.0  California   \n",
       "\n",
       "                       region_1      region_2             variety  \\\n",
       "19354   Walla Walla Valley (OR)  Oregon Other               Syrah   \n",
       "84034   Walla Walla Valley (OR)  Oregon Other               Syrah   \n",
       "89399               Napa Valley          Napa  Cabernet Sauvignon   \n",
       "92916       Stags Leap District          Napa  Cabernet Sauvignon   \n",
       "98647      Russian River Valley        Sonoma          Pinot Noir   \n",
       "114272               Rutherford          Napa      Cabernet Blend   \n",
       "119194  Walla Walla Valley (OR)  Oregon Other               Syrah   \n",
       "122767     Russian River Valley        Sonoma          Pinot Noir   \n",
       "137099              Napa Valley          Napa  Cabernet Sauvignon   \n",
       "143522               Rutherford          Napa      Cabernet Blend   \n",
       "\n",
       "                 winery  \n",
       "19354            Cayuse  \n",
       "84034            Cayuse  \n",
       "89399         Cardinale  \n",
       "92916            Shafer  \n",
       "98647   Williams Selyem  \n",
       "114272            Sloan  \n",
       "119194           Cayuse  \n",
       "122767  Williams Selyem  \n",
       "137099        Cardinale  \n",
       "143522            Sloan  "
      ]
     },
     "execution_count": 19,
     "metadata": {},
     "output_type": "execute_result"
    }
   ],
   "source": [
    "winery_filt_us = (df['points'] > 99) & (df['country'] == 'US')\n",
    "df.loc[winery_filt_us]"
   ]
  },
  {
   "cell_type": "markdown",
   "metadata": {},
   "source": [
    "- as we see, 7 wineries are located in California, 3 are located in Oregon, with a perfect score of 100."
   ]
  },
  {
   "cell_type": "markdown",
   "metadata": {},
   "source": [
    "### 5. List the top wine varietys of our top producers in United States and how many of our \"Perfect 10\" wines do they produce:"
   ]
  },
  {
   "cell_type": "code",
   "execution_count": 20,
   "metadata": {},
   "outputs": [
    {
     "data": {
      "text/plain": [
       "Cabernet Sauvignon    3\n",
       "Syrah                 3\n",
       "Cabernet Blend        2\n",
       "Pinot Noir            2\n",
       "Name: variety, dtype: int64"
      ]
     },
     "execution_count": 20,
     "metadata": {},
     "output_type": "execute_result"
    }
   ],
   "source": [
    "df.loc[winery_filt_us, 'variety'].value_counts()"
   ]
  },
  {
   "cell_type": "markdown",
   "metadata": {},
   "source": [
    "### 6. List the top wineries and how many of the top wines, that they make of our \"Perfect 10\":"
   ]
  },
  {
   "cell_type": "code",
   "execution_count": 21,
   "metadata": {},
   "outputs": [
    {
     "data": {
      "text/plain": [
       "Williams Selyem    2\n",
       "Sloan              2\n",
       "Cardinale          2\n",
       "Shafer             1\n",
       "Name: winery, dtype: int64"
      ]
     },
     "execution_count": 21,
     "metadata": {},
     "output_type": "execute_result"
    }
   ],
   "source": [
    "df.loc[winery_filt, 'winery'].value_counts()"
   ]
  },
  {
   "cell_type": "markdown",
   "metadata": {},
   "source": [
    "### 7. What description commonalities does our 'Perfect 10' wine list exhibit between each other if any:"
   ]
  },
  {
   "cell_type": "code",
   "execution_count": 22,
   "metadata": {
    "scrolled": false
   },
   "outputs": [
    {
     "data": {
      "text/plain": [
       "89399     200.0\n",
       "92916     215.0\n",
       "98647     100.0\n",
       "114272    245.0\n",
       "122767    100.0\n",
       "137099    200.0\n",
       "143522    245.0\n",
       "Name: price, dtype: float64"
      ]
     },
     "execution_count": 22,
     "metadata": {},
     "output_type": "execute_result"
    }
   ],
   "source": [
    "df.loc[winery_filt, 'price']"
   ]
  },
  {
   "cell_type": "code",
   "execution_count": 25,
   "metadata": {},
   "outputs": [
    {
     "data": {
      "text/html": [
       "<div>\n",
       "<style scoped>\n",
       "    .dataframe tbody tr th:only-of-type {\n",
       "        vertical-align: middle;\n",
       "    }\n",
       "\n",
       "    .dataframe tbody tr th {\n",
       "        vertical-align: top;\n",
       "    }\n",
       "\n",
       "    .dataframe thead th {\n",
       "        text-align: right;\n",
       "    }\n",
       "</style>\n",
       "<table border=\"1\" class=\"dataframe\">\n",
       "  <thead>\n",
       "    <tr style=\"text-align: right;\">\n",
       "      <th></th>\n",
       "      <th>country</th>\n",
       "      <th>description</th>\n",
       "      <th>designation</th>\n",
       "      <th>points</th>\n",
       "      <th>price</th>\n",
       "      <th>province</th>\n",
       "      <th>region_1</th>\n",
       "      <th>region_2</th>\n",
       "      <th>variety</th>\n",
       "      <th>winery</th>\n",
       "    </tr>\n",
       "  </thead>\n",
       "  <tbody>\n",
       "    <tr>\n",
       "      <th>0</th>\n",
       "      <td>US</td>\n",
       "      <td>This tremendous 100% varietal wine hails from ...</td>\n",
       "      <td>Martha's Vineyard</td>\n",
       "      <td>96</td>\n",
       "      <td>235.0</td>\n",
       "      <td>California</td>\n",
       "      <td>Napa Valley</td>\n",
       "      <td>Napa</td>\n",
       "      <td>Cabernet Sauvignon</td>\n",
       "      <td>Heitz</td>\n",
       "    </tr>\n",
       "    <tr>\n",
       "      <th>1</th>\n",
       "      <td>Spain</td>\n",
       "      <td>Ripe aromas of fig, blackberry and cassis are ...</td>\n",
       "      <td>Carodorum Selección Especial Reserva</td>\n",
       "      <td>96</td>\n",
       "      <td>110.0</td>\n",
       "      <td>Northern Spain</td>\n",
       "      <td>Toro</td>\n",
       "      <td>NaN</td>\n",
       "      <td>Tinta de Toro</td>\n",
       "      <td>Bodega Carmen Rodríguez</td>\n",
       "    </tr>\n",
       "    <tr>\n",
       "      <th>2</th>\n",
       "      <td>US</td>\n",
       "      <td>Mac Watson honors the memory of a wine once ma...</td>\n",
       "      <td>Special Selected Late Harvest</td>\n",
       "      <td>96</td>\n",
       "      <td>90.0</td>\n",
       "      <td>California</td>\n",
       "      <td>Knights Valley</td>\n",
       "      <td>Sonoma</td>\n",
       "      <td>Sauvignon Blanc</td>\n",
       "      <td>Macauley</td>\n",
       "    </tr>\n",
       "    <tr>\n",
       "      <th>3</th>\n",
       "      <td>US</td>\n",
       "      <td>This spent 20 months in 30% new French oak, an...</td>\n",
       "      <td>Reserve</td>\n",
       "      <td>96</td>\n",
       "      <td>65.0</td>\n",
       "      <td>Oregon</td>\n",
       "      <td>Willamette Valley</td>\n",
       "      <td>Willamette Valley</td>\n",
       "      <td>Pinot Noir</td>\n",
       "      <td>Ponzi</td>\n",
       "    </tr>\n",
       "    <tr>\n",
       "      <th>4</th>\n",
       "      <td>France</td>\n",
       "      <td>This is the top wine from La Bégude, named aft...</td>\n",
       "      <td>La Brûlade</td>\n",
       "      <td>95</td>\n",
       "      <td>66.0</td>\n",
       "      <td>Provence</td>\n",
       "      <td>Bandol</td>\n",
       "      <td>NaN</td>\n",
       "      <td>Provence red blend</td>\n",
       "      <td>Domaine de la Bégude</td>\n",
       "    </tr>\n",
       "  </tbody>\n",
       "</table>\n",
       "</div>"
      ],
      "text/plain": [
       "  country                                        description  \\\n",
       "0      US  This tremendous 100% varietal wine hails from ...   \n",
       "1   Spain  Ripe aromas of fig, blackberry and cassis are ...   \n",
       "2      US  Mac Watson honors the memory of a wine once ma...   \n",
       "3      US  This spent 20 months in 30% new French oak, an...   \n",
       "4  France  This is the top wine from La Bégude, named aft...   \n",
       "\n",
       "                            designation  points  price        province  \\\n",
       "0                     Martha's Vineyard      96  235.0      California   \n",
       "1  Carodorum Selección Especial Reserva      96  110.0  Northern Spain   \n",
       "2         Special Selected Late Harvest      96   90.0      California   \n",
       "3                               Reserve      96   65.0          Oregon   \n",
       "4                            La Brûlade      95   66.0        Provence   \n",
       "\n",
       "            region_1           region_2             variety  \\\n",
       "0        Napa Valley               Napa  Cabernet Sauvignon   \n",
       "1               Toro                NaN       Tinta de Toro   \n",
       "2     Knights Valley             Sonoma     Sauvignon Blanc   \n",
       "3  Willamette Valley  Willamette Valley          Pinot Noir   \n",
       "4             Bandol                NaN  Provence red blend   \n",
       "\n",
       "                    winery  \n",
       "0                    Heitz  \n",
       "1  Bodega Carmen Rodríguez  \n",
       "2                 Macauley  \n",
       "3                    Ponzi  \n",
       "4     Domaine de la Bégude  "
      ]
     },
     "execution_count": 25,
     "metadata": {},
     "output_type": "execute_result"
    }
   ],
   "source": [
    "df.head()"
   ]
  },
  {
   "cell_type": "code",
   "execution_count": 67,
   "metadata": {
    "scrolled": true
   },
   "outputs": [
    {
     "data": {
      "text/html": [
       "<div>\n",
       "<style scoped>\n",
       "    .dataframe tbody tr th:only-of-type {\n",
       "        vertical-align: middle;\n",
       "    }\n",
       "\n",
       "    .dataframe tbody tr th {\n",
       "        vertical-align: top;\n",
       "    }\n",
       "\n",
       "    .dataframe thead th {\n",
       "        text-align: right;\n",
       "    }\n",
       "</style>\n",
       "<table border=\"1\" class=\"dataframe\">\n",
       "  <thead>\n",
       "    <tr style=\"text-align: right;\">\n",
       "      <th></th>\n",
       "      <th>price</th>\n",
       "      <th>points</th>\n",
       "    </tr>\n",
       "  </thead>\n",
       "  <tbody>\n",
       "    <tr>\n",
       "      <th>price</th>\n",
       "      <td>1.000000</td>\n",
       "      <td>0.459863</td>\n",
       "    </tr>\n",
       "    <tr>\n",
       "      <th>points</th>\n",
       "      <td>0.459863</td>\n",
       "      <td>1.000000</td>\n",
       "    </tr>\n",
       "  </tbody>\n",
       "</table>\n",
       "</div>"
      ],
      "text/plain": [
       "           price    points\n",
       "price   1.000000  0.459863\n",
       "points  0.459863  1.000000"
      ]
     },
     "execution_count": 67,
     "metadata": {},
     "output_type": "execute_result"
    }
   ],
   "source": [
    "\n",
    "df[['price','points']].corr()"
   ]
  },
  {
   "cell_type": "code",
   "execution_count": 70,
   "metadata": {},
   "outputs": [],
   "source": [
    "\n",
    "%matplotlib inline\n",
    "\n",
    "import matplotlib.pyplot as plt\n",
    "import matplotlib as mpl\n",
    "mpl.style.use('ggplot')"
   ]
  },
  {
   "cell_type": "code",
   "execution_count": 66,
   "metadata": {
    "scrolled": true
   },
   "outputs": [
    {
     "data": {
      "text/plain": [
       "True"
      ]
     },
     "execution_count": 66,
     "metadata": {},
     "output_type": "execute_result"
    }
   ],
   "source": [
    "all(isinstance(column, str) for column in df.columns)"
   ]
  },
  {
   "cell_type": "markdown",
   "metadata": {},
   "source": [
    "### Lets identify wineries with most expensive wine and points above 98"
   ]
  },
  {
   "cell_type": "code",
   "execution_count": 73,
   "metadata": {},
   "outputs": [],
   "source": [
    "expensive_filt = (df['price'].astype('str') > '500') & (df['points'].astype('str') > '98')"
   ]
  },
  {
   "cell_type": "code",
   "execution_count": 91,
   "metadata": {},
   "outputs": [
    {
     "data": {
      "text/plain": [
       "19356                   Cayuse\n",
       "34649          Williams Selyem\n",
       "42798          Williams Selyem\n",
       "42799                   Cayuse\n",
       "54343           Château Palmer\n",
       "54344          Château d'Yquem\n",
       "54345     Château Pontet-Canet\n",
       "81688              Stonestreet\n",
       "84036                   Cayuse\n",
       "106483          Château Palmer\n",
       "106484         Château d'Yquem\n",
       "106485    Château Pontet-Canet\n",
       "119196                  Cayuse\n",
       "131383          Château Palmer\n",
       "131384         Château d'Yquem\n",
       "131385    Château Pontet-Canet\n",
       "142677          Château Latour\n",
       "Name: winery, dtype: object"
      ]
     },
     "execution_count": 91,
     "metadata": {},
     "output_type": "execute_result"
    }
   ],
   "source": [
    "df.loc[expensive_filt, 'winery']"
   ]
  },
  {
   "cell_type": "code",
   "execution_count": null,
   "metadata": {},
   "outputs": [],
   "source": []
  }
 ],
 "metadata": {
  "kernelspec": {
   "display_name": "Python 3",
   "language": "python",
   "name": "python3"
  },
  "language_info": {
   "codemirror_mode": {
    "name": "ipython",
    "version": 3
   },
   "file_extension": ".py",
   "mimetype": "text/x-python",
   "name": "python",
   "nbconvert_exporter": "python",
   "pygments_lexer": "ipython3",
   "version": "3.9.1"
  }
 },
 "nbformat": 4,
 "nbformat_minor": 4
}
