{
 "cells": [
  {
   "cell_type": "code",
   "execution_count": 1,
   "id": "d36e7b0e",
   "metadata": {},
   "outputs": [],
   "source": [
    "import vaex\n",
    "import pandas as pd"
   ]
  },
  {
   "cell_type": "code",
   "execution_count": 2,
   "id": "365ca12b",
   "metadata": {
    "scrolled": true
   },
   "outputs": [
    {
     "data": {
      "text/html": [
       "<div>\n",
       "<style scoped>\n",
       "    .dataframe tbody tr th:only-of-type {\n",
       "        vertical-align: middle;\n",
       "    }\n",
       "\n",
       "    .dataframe tbody tr th {\n",
       "        vertical-align: top;\n",
       "    }\n",
       "\n",
       "    .dataframe thead th {\n",
       "        text-align: right;\n",
       "    }\n",
       "</style>\n",
       "<table border=\"1\" class=\"dataframe\">\n",
       "  <thead>\n",
       "    <tr style=\"text-align: right;\">\n",
       "      <th></th>\n",
       "      <th>id</th>\n",
       "      <th>url</th>\n",
       "      <th>region</th>\n",
       "      <th>region_url</th>\n",
       "      <th>price</th>\n",
       "      <th>year</th>\n",
       "      <th>manufacturer</th>\n",
       "      <th>model</th>\n",
       "      <th>condition</th>\n",
       "      <th>cylinders</th>\n",
       "      <th>...</th>\n",
       "      <th>drive</th>\n",
       "      <th>size</th>\n",
       "      <th>type</th>\n",
       "      <th>paint_color</th>\n",
       "      <th>image_url</th>\n",
       "      <th>description</th>\n",
       "      <th>county</th>\n",
       "      <th>state</th>\n",
       "      <th>lat</th>\n",
       "      <th>long</th>\n",
       "    </tr>\n",
       "  </thead>\n",
       "  <tbody>\n",
       "    <tr>\n",
       "      <th>0</th>\n",
       "      <td>7307730503</td>\n",
       "      <td>https://auburn.craigslist.org/cto/d/opelika-ha...</td>\n",
       "      <td>auburn</td>\n",
       "      <td>https://auburn.craigslist.org</td>\n",
       "      <td>9500</td>\n",
       "      <td>2003.0</td>\n",
       "      <td>chrysler</td>\n",
       "      <td>town &amp; country</td>\n",
       "      <td>excellent</td>\n",
       "      <td>6 cylinders</td>\n",
       "      <td>...</td>\n",
       "      <td>fwd</td>\n",
       "      <td>mid-size</td>\n",
       "      <td>mini-van</td>\n",
       "      <td>blue</td>\n",
       "      <td>https://images.craigslist.org/00w0w_41YO8cHlW3...</td>\n",
       "      <td>2003 Chrysler Town and Country Handicapped Acc...</td>\n",
       "      <td>NaN</td>\n",
       "      <td>al</td>\n",
       "      <td>32.614209</td>\n",
       "      <td>-85.326357</td>\n",
       "    </tr>\n",
       "    <tr>\n",
       "      <th>1</th>\n",
       "      <td>7307218858</td>\n",
       "      <td>https://auburn.craigslist.org/ctd/d/auburn-uni...</td>\n",
       "      <td>auburn</td>\n",
       "      <td>https://auburn.craigslist.org</td>\n",
       "      <td>28990</td>\n",
       "      <td>2018.0</td>\n",
       "      <td>gmc</td>\n",
       "      <td>acadia sle-2 sport utility</td>\n",
       "      <td>good</td>\n",
       "      <td>6 cylinders</td>\n",
       "      <td>...</td>\n",
       "      <td>fwd</td>\n",
       "      <td>NaN</td>\n",
       "      <td>other</td>\n",
       "      <td>white</td>\n",
       "      <td>https://images.craigslist.org/00c0c_kXhBir3Ii6...</td>\n",
       "      <td>Carvana is the safer way to buy a car During t...</td>\n",
       "      <td>NaN</td>\n",
       "      <td>al</td>\n",
       "      <td>32.590000</td>\n",
       "      <td>-85.480000</td>\n",
       "    </tr>\n",
       "    <tr>\n",
       "      <th>2</th>\n",
       "      <td>7307164168</td>\n",
       "      <td>https://auburn.craigslist.org/ctd/d/auburn-uni...</td>\n",
       "      <td>auburn</td>\n",
       "      <td>https://auburn.craigslist.org</td>\n",
       "      <td>16590</td>\n",
       "      <td>2013.0</td>\n",
       "      <td>lincoln</td>\n",
       "      <td>mkz sedan 4d</td>\n",
       "      <td>good</td>\n",
       "      <td>NaN</td>\n",
       "      <td>...</td>\n",
       "      <td>fwd</td>\n",
       "      <td>NaN</td>\n",
       "      <td>sedan</td>\n",
       "      <td>red</td>\n",
       "      <td>https://images.craigslist.org/00N0N_1xMPvfxRAI...</td>\n",
       "      <td>Carvana is the safer way to buy a car During t...</td>\n",
       "      <td>NaN</td>\n",
       "      <td>al</td>\n",
       "      <td>32.590000</td>\n",
       "      <td>-85.480000</td>\n",
       "    </tr>\n",
       "    <tr>\n",
       "      <th>3</th>\n",
       "      <td>7307164193</td>\n",
       "      <td>https://auburn.craigslist.org/ctd/d/auburn-uni...</td>\n",
       "      <td>auburn</td>\n",
       "      <td>https://auburn.craigslist.org</td>\n",
       "      <td>28990</td>\n",
       "      <td>2017.0</td>\n",
       "      <td>gmc</td>\n",
       "      <td>acadia slt-1 sport utility</td>\n",
       "      <td>good</td>\n",
       "      <td>6 cylinders</td>\n",
       "      <td>...</td>\n",
       "      <td>fwd</td>\n",
       "      <td>NaN</td>\n",
       "      <td>other</td>\n",
       "      <td>NaN</td>\n",
       "      <td>https://images.craigslist.org/00w0w_b3G8mxfApI...</td>\n",
       "      <td>Carvana is the safer way to buy a car During t...</td>\n",
       "      <td>NaN</td>\n",
       "      <td>al</td>\n",
       "      <td>32.590000</td>\n",
       "      <td>-85.480000</td>\n",
       "    </tr>\n",
       "    <tr>\n",
       "      <th>4</th>\n",
       "      <td>7307142186</td>\n",
       "      <td>https://auburn.craigslist.org/ctd/d/auburn-uni...</td>\n",
       "      <td>auburn</td>\n",
       "      <td>https://auburn.craigslist.org</td>\n",
       "      <td>20590</td>\n",
       "      <td>2017.0</td>\n",
       "      <td>lincoln</td>\n",
       "      <td>mkz premiere sedan 4d</td>\n",
       "      <td>good</td>\n",
       "      <td>NaN</td>\n",
       "      <td>...</td>\n",
       "      <td>fwd</td>\n",
       "      <td>NaN</td>\n",
       "      <td>sedan</td>\n",
       "      <td>NaN</td>\n",
       "      <td>https://images.craigslist.org/00F0F_ghX7UUlnBr...</td>\n",
       "      <td>Carvana is the safer way to buy a car During t...</td>\n",
       "      <td>NaN</td>\n",
       "      <td>al</td>\n",
       "      <td>32.590000</td>\n",
       "      <td>-85.480000</td>\n",
       "    </tr>\n",
       "  </tbody>\n",
       "</table>\n",
       "<p>5 rows × 25 columns</p>\n",
       "</div>"
      ],
      "text/plain": [
       "           id                                                url  region  \\\n",
       "0  7307730503  https://auburn.craigslist.org/cto/d/opelika-ha...  auburn   \n",
       "1  7307218858  https://auburn.craigslist.org/ctd/d/auburn-uni...  auburn   \n",
       "2  7307164168  https://auburn.craigslist.org/ctd/d/auburn-uni...  auburn   \n",
       "3  7307164193  https://auburn.craigslist.org/ctd/d/auburn-uni...  auburn   \n",
       "4  7307142186  https://auburn.craigslist.org/ctd/d/auburn-uni...  auburn   \n",
       "\n",
       "                      region_url  price    year manufacturer  \\\n",
       "0  https://auburn.craigslist.org   9500  2003.0     chrysler   \n",
       "1  https://auburn.craigslist.org  28990  2018.0          gmc   \n",
       "2  https://auburn.craigslist.org  16590  2013.0      lincoln   \n",
       "3  https://auburn.craigslist.org  28990  2017.0          gmc   \n",
       "4  https://auburn.craigslist.org  20590  2017.0      lincoln   \n",
       "\n",
       "                        model  condition    cylinders  ... drive      size  \\\n",
       "0              town & country  excellent  6 cylinders  ...   fwd  mid-size   \n",
       "1  acadia sle-2 sport utility       good  6 cylinders  ...   fwd       NaN   \n",
       "2                mkz sedan 4d       good          NaN  ...   fwd       NaN   \n",
       "3  acadia slt-1 sport utility       good  6 cylinders  ...   fwd       NaN   \n",
       "4       mkz premiere sedan 4d       good          NaN  ...   fwd       NaN   \n",
       "\n",
       "       type paint_color                                          image_url  \\\n",
       "0  mini-van        blue  https://images.craigslist.org/00w0w_41YO8cHlW3...   \n",
       "1     other       white  https://images.craigslist.org/00c0c_kXhBir3Ii6...   \n",
       "2     sedan         red  https://images.craigslist.org/00N0N_1xMPvfxRAI...   \n",
       "3     other         NaN  https://images.craigslist.org/00w0w_b3G8mxfApI...   \n",
       "4     sedan         NaN  https://images.craigslist.org/00F0F_ghX7UUlnBr...   \n",
       "\n",
       "                                         description county state        lat  \\\n",
       "0  2003 Chrysler Town and Country Handicapped Acc...    NaN    al  32.614209   \n",
       "1  Carvana is the safer way to buy a car During t...    NaN    al  32.590000   \n",
       "2  Carvana is the safer way to buy a car During t...    NaN    al  32.590000   \n",
       "3  Carvana is the safer way to buy a car During t...    NaN    al  32.590000   \n",
       "4  Carvana is the safer way to buy a car During t...    NaN    al  32.590000   \n",
       "\n",
       "        long  \n",
       "0 -85.326357  \n",
       "1 -85.480000  \n",
       "2 -85.480000  \n",
       "3 -85.480000  \n",
       "4 -85.480000  \n",
       "\n",
       "[5 rows x 25 columns]"
      ]
     },
     "execution_count": 2,
     "metadata": {},
     "output_type": "execute_result"
    }
   ],
   "source": [
    "# df = vaex.from_csv('/Users/pauliuskomskis/Desktop/github/data/cars.csv', \n",
    "#               copy_index=False, chunk_size=None, convert=False, \n",
    "#               fs_options={}, fs=None)\n",
    "# df\n",
    "\n",
    "df = pd.read_csv('/Users/pauliuskomskis/Desktop/github/data/cars.csv')\n",
    "df.head()"
   ]
  },
  {
   "cell_type": "code",
   "execution_count": 3,
   "id": "3ceb3786",
   "metadata": {
    "scrolled": true
   },
   "outputs": [],
   "source": [
    "df.drop(columns=['id', 'url', 'region_url', 'condition', 'VIN', 'image_url', 'county'], inplace=True)"
   ]
  },
  {
   "cell_type": "code",
   "execution_count": 4,
   "id": "965449c2",
   "metadata": {},
   "outputs": [
    {
     "data": {
      "text/html": [
       "<div>\n",
       "<style scoped>\n",
       "    .dataframe tbody tr th:only-of-type {\n",
       "        vertical-align: middle;\n",
       "    }\n",
       "\n",
       "    .dataframe tbody tr th {\n",
       "        vertical-align: top;\n",
       "    }\n",
       "\n",
       "    .dataframe thead th {\n",
       "        text-align: right;\n",
       "    }\n",
       "</style>\n",
       "<table border=\"1\" class=\"dataframe\">\n",
       "  <thead>\n",
       "    <tr style=\"text-align: right;\">\n",
       "      <th></th>\n",
       "      <th>region</th>\n",
       "      <th>price</th>\n",
       "      <th>year</th>\n",
       "      <th>manufacturer</th>\n",
       "      <th>model</th>\n",
       "      <th>cylinders</th>\n",
       "      <th>fuel</th>\n",
       "      <th>odometer</th>\n",
       "      <th>title_status</th>\n",
       "      <th>transmission</th>\n",
       "      <th>drive</th>\n",
       "      <th>size</th>\n",
       "      <th>type</th>\n",
       "      <th>paint_color</th>\n",
       "      <th>description</th>\n",
       "      <th>state</th>\n",
       "      <th>lat</th>\n",
       "      <th>long</th>\n",
       "    </tr>\n",
       "  </thead>\n",
       "  <tbody>\n",
       "    <tr>\n",
       "      <th>0</th>\n",
       "      <td>auburn</td>\n",
       "      <td>9500</td>\n",
       "      <td>2003.0</td>\n",
       "      <td>chrysler</td>\n",
       "      <td>town &amp; country</td>\n",
       "      <td>6 cylinders</td>\n",
       "      <td>gas</td>\n",
       "      <td>30376.0</td>\n",
       "      <td>clean</td>\n",
       "      <td>automatic</td>\n",
       "      <td>fwd</td>\n",
       "      <td>mid-size</td>\n",
       "      <td>mini-van</td>\n",
       "      <td>blue</td>\n",
       "      <td>2003 Chrysler Town and Country Handicapped Acc...</td>\n",
       "      <td>al</td>\n",
       "      <td>32.614209</td>\n",
       "      <td>-85.326357</td>\n",
       "    </tr>\n",
       "    <tr>\n",
       "      <th>1</th>\n",
       "      <td>auburn</td>\n",
       "      <td>28990</td>\n",
       "      <td>2018.0</td>\n",
       "      <td>gmc</td>\n",
       "      <td>acadia sle-2 sport utility</td>\n",
       "      <td>6 cylinders</td>\n",
       "      <td>gas</td>\n",
       "      <td>20736.0</td>\n",
       "      <td>clean</td>\n",
       "      <td>other</td>\n",
       "      <td>fwd</td>\n",
       "      <td>NaN</td>\n",
       "      <td>other</td>\n",
       "      <td>white</td>\n",
       "      <td>Carvana is the safer way to buy a car During t...</td>\n",
       "      <td>al</td>\n",
       "      <td>32.590000</td>\n",
       "      <td>-85.480000</td>\n",
       "    </tr>\n",
       "    <tr>\n",
       "      <th>2</th>\n",
       "      <td>auburn</td>\n",
       "      <td>16590</td>\n",
       "      <td>2013.0</td>\n",
       "      <td>lincoln</td>\n",
       "      <td>mkz sedan 4d</td>\n",
       "      <td>NaN</td>\n",
       "      <td>gas</td>\n",
       "      <td>61087.0</td>\n",
       "      <td>clean</td>\n",
       "      <td>other</td>\n",
       "      <td>fwd</td>\n",
       "      <td>NaN</td>\n",
       "      <td>sedan</td>\n",
       "      <td>red</td>\n",
       "      <td>Carvana is the safer way to buy a car During t...</td>\n",
       "      <td>al</td>\n",
       "      <td>32.590000</td>\n",
       "      <td>-85.480000</td>\n",
       "    </tr>\n",
       "    <tr>\n",
       "      <th>3</th>\n",
       "      <td>auburn</td>\n",
       "      <td>28990</td>\n",
       "      <td>2017.0</td>\n",
       "      <td>gmc</td>\n",
       "      <td>acadia slt-1 sport utility</td>\n",
       "      <td>6 cylinders</td>\n",
       "      <td>gas</td>\n",
       "      <td>18041.0</td>\n",
       "      <td>clean</td>\n",
       "      <td>other</td>\n",
       "      <td>fwd</td>\n",
       "      <td>NaN</td>\n",
       "      <td>other</td>\n",
       "      <td>NaN</td>\n",
       "      <td>Carvana is the safer way to buy a car During t...</td>\n",
       "      <td>al</td>\n",
       "      <td>32.590000</td>\n",
       "      <td>-85.480000</td>\n",
       "    </tr>\n",
       "    <tr>\n",
       "      <th>4</th>\n",
       "      <td>auburn</td>\n",
       "      <td>20590</td>\n",
       "      <td>2017.0</td>\n",
       "      <td>lincoln</td>\n",
       "      <td>mkz premiere sedan 4d</td>\n",
       "      <td>NaN</td>\n",
       "      <td>gas</td>\n",
       "      <td>36436.0</td>\n",
       "      <td>clean</td>\n",
       "      <td>other</td>\n",
       "      <td>fwd</td>\n",
       "      <td>NaN</td>\n",
       "      <td>sedan</td>\n",
       "      <td>NaN</td>\n",
       "      <td>Carvana is the safer way to buy a car During t...</td>\n",
       "      <td>al</td>\n",
       "      <td>32.590000</td>\n",
       "      <td>-85.480000</td>\n",
       "    </tr>\n",
       "  </tbody>\n",
       "</table>\n",
       "</div>"
      ],
      "text/plain": [
       "   region  price    year manufacturer                       model  \\\n",
       "0  auburn   9500  2003.0     chrysler              town & country   \n",
       "1  auburn  28990  2018.0          gmc  acadia sle-2 sport utility   \n",
       "2  auburn  16590  2013.0      lincoln                mkz sedan 4d   \n",
       "3  auburn  28990  2017.0          gmc  acadia slt-1 sport utility   \n",
       "4  auburn  20590  2017.0      lincoln       mkz premiere sedan 4d   \n",
       "\n",
       "     cylinders fuel  odometer title_status transmission drive      size  \\\n",
       "0  6 cylinders  gas   30376.0        clean    automatic   fwd  mid-size   \n",
       "1  6 cylinders  gas   20736.0        clean        other   fwd       NaN   \n",
       "2          NaN  gas   61087.0        clean        other   fwd       NaN   \n",
       "3  6 cylinders  gas   18041.0        clean        other   fwd       NaN   \n",
       "4          NaN  gas   36436.0        clean        other   fwd       NaN   \n",
       "\n",
       "       type paint_color                                        description  \\\n",
       "0  mini-van        blue  2003 Chrysler Town and Country Handicapped Acc...   \n",
       "1     other       white  Carvana is the safer way to buy a car During t...   \n",
       "2     sedan         red  Carvana is the safer way to buy a car During t...   \n",
       "3     other         NaN  Carvana is the safer way to buy a car During t...   \n",
       "4     sedan         NaN  Carvana is the safer way to buy a car During t...   \n",
       "\n",
       "  state        lat       long  \n",
       "0    al  32.614209 -85.326357  \n",
       "1    al  32.590000 -85.480000  \n",
       "2    al  32.590000 -85.480000  \n",
       "3    al  32.590000 -85.480000  \n",
       "4    al  32.590000 -85.480000  "
      ]
     },
     "execution_count": 4,
     "metadata": {},
     "output_type": "execute_result"
    }
   ],
   "source": [
    "df.head()"
   ]
  },
  {
   "cell_type": "markdown",
   "id": "f76b3543",
   "metadata": {},
   "source": [
    " #### 1. What are top car makes and models sold across US?\n"
   ]
  },
  {
   "cell_type": "code",
   "execution_count": 5,
   "id": "5591f796",
   "metadata": {
    "scrolled": false
   },
   "outputs": [
    {
     "data": {
      "text/plain": [
       "ford         70467\n",
       "chevrolet    56172\n",
       "toyota       35508\n",
       "honda        22066\n",
       "nissan       20072\n",
       "jeep         19517\n",
       "ram          18335\n",
       "gmc          16420\n",
       "bmw          15900\n",
       "dodge        13972\n",
       "Name: manufacturer, dtype: int64"
      ]
     },
     "execution_count": 5,
     "metadata": {},
     "output_type": "execute_result"
    }
   ],
   "source": [
    "quest_1 = df['manufacturer'].value_counts().nlargest(10)\n",
    "quest_1"
   ]
  },
  {
   "cell_type": "code",
   "execution_count": 6,
   "id": "30f50b49",
   "metadata": {},
   "outputs": [
    {
     "data": {
      "text/plain": [
       "manufacturer  state\n",
       "ford          ca       7296\n",
       "toyota        ca       5707\n",
       "chevrolet     ca       5655\n",
       "ford          fl       4871\n",
       "              tx       4403\n",
       "                       ... \n",
       "land rover    al          1\n",
       "saturn        ut          1\n",
       "jaguar        sd          1\n",
       "              ne          1\n",
       "ferrari       co          1\n",
       "Length: 1921, dtype: int64"
      ]
     },
     "execution_count": 6,
     "metadata": {},
     "output_type": "execute_result"
    }
   ],
   "source": [
    "df[['manufacturer', 'state']].value_counts()"
   ]
  },
  {
   "cell_type": "code",
   "execution_count": 7,
   "id": "e2be3a8e",
   "metadata": {},
   "outputs": [],
   "source": [
    "popular_filt = df[['manufacturer', 'model']].value_counts().nlargest(7)"
   ]
  },
  {
   "cell_type": "code",
   "execution_count": 8,
   "id": "3013b399",
   "metadata": {},
   "outputs": [
    {
     "data": {
      "text/plain": [
       "manufacturer  model         \n",
       "ford          f-150             8006\n",
       "chevrolet     silverado 1500    5466\n",
       "ram           1500              4152\n",
       "toyota        camry             3344\n",
       "honda         accord            3267\n",
       "chevrolet     silverado         3112\n",
       "honda         civic             3011\n",
       "dtype: int64"
      ]
     },
     "execution_count": 8,
     "metadata": {},
     "output_type": "execute_result"
    }
   ],
   "source": [
    "popular_filt"
   ]
  },
  {
   "cell_type": "markdown",
   "id": "ad06ff54",
   "metadata": {},
   "source": [
    "### So the most popular makes and models across US are displayed above. Appears pickups of Ford, Chevy and Ram 1500 models are the most bought"
   ]
  },
  {
   "cell_type": "markdown",
   "id": "31cbce55",
   "metadata": {},
   "source": [
    "## Lets look whats happening in SC :"
   ]
  },
  {
   "cell_type": "code",
   "execution_count": 9,
   "id": "3fcee79b",
   "metadata": {},
   "outputs": [],
   "source": [
    "sc_filt = (df['state'] == 'sc') "
   ]
  },
  {
   "cell_type": "code",
   "execution_count": 10,
   "id": "6beeb31b",
   "metadata": {
    "scrolled": true
   },
   "outputs": [
    {
     "data": {
      "text/plain": [
       "ford             948\n",
       "chevrolet        916\n",
       "toyota           500\n",
       "gmc              338\n",
       "honda            312\n",
       "nissan           293\n",
       "jeep             272\n",
       "mercedes-benz    258\n",
       "bmw              233\n",
       "dodge            204\n",
       "ram              204\n",
       "lexus            191\n",
       "volkswagen       175\n",
       "hyundai          170\n",
       "kia              165\n",
       "infiniti         132\n",
       "cadillac         126\n",
       "lincoln          124\n",
       "audi             124\n",
       "buick            117\n",
       "acura            102\n",
       "chrysler         100\n",
       "mitsubishi        67\n",
       "subaru            67\n",
       "mazda             58\n",
       "jaguar            58\n",
       "volvo             48\n",
       "pontiac           43\n",
       "mini              34\n",
       "rover             31\n",
       "alfa-romeo        29\n",
       "fiat              20\n",
       "porsche           18\n",
       "mercury           12\n",
       "tesla             10\n",
       "saturn             9\n",
       "ferrari            1\n",
       "Name: manufacturer, dtype: int64"
      ]
     },
     "execution_count": 10,
     "metadata": {},
     "output_type": "execute_result"
    }
   ],
   "source": [
    "df.loc[sc_filt, 'manufacturer'].value_counts()"
   ]
  },
  {
   "cell_type": "markdown",
   "id": "d0cb482f",
   "metadata": {},
   "source": [
    "#### Most popular manufacturers include Ford, Chevy\n",
    "#### Lets see which models of those are amongst the top:"
   ]
  },
  {
   "cell_type": "code",
   "execution_count": 11,
   "id": "1ef15bc2",
   "metadata": {},
   "outputs": [
    {
     "data": {
      "text/plain": [
       "silverado 1500    133\n",
       "f-150             100\n",
       "wrangler           73\n",
       "corvette           65\n",
       "odyssey            41\n",
       "sierra 1500        40\n",
       "m-class            39\n",
       "Name: model, dtype: int64"
      ]
     },
     "execution_count": 11,
     "metadata": {},
     "output_type": "execute_result"
    }
   ],
   "source": [
    "df.loc[sc_filt, 'model'].value_counts().nlargest(7)"
   ]
  },
  {
   "cell_type": "markdown",
   "id": "ffee69ca",
   "metadata": {},
   "source": [
    "### Silverado 1500 , F-150 are amongs the top"
   ]
  },
  {
   "cell_type": "code",
   "execution_count": null,
   "id": "6a87a33b",
   "metadata": {},
   "outputs": [],
   "source": []
  },
  {
   "cell_type": "code",
   "execution_count": 15,
   "id": "9c62ea18",
   "metadata": {},
   "outputs": [],
   "source": [
    "make_filt = (df['manufacturer'] > 'ford') & (df['model'] == 'f-150')"
   ]
  },
  {
   "cell_type": "code",
   "execution_count": 32,
   "id": "07419bc8",
   "metadata": {},
   "outputs": [],
   "source": [
    "prices = df.loc[make_filt, 'price'].max()"
   ]
  },
  {
   "cell_type": "code",
   "execution_count": 33,
   "id": "a816dd9e",
   "metadata": {},
   "outputs": [
    {
     "data": {
      "text/plain": [
       "nan"
      ]
     },
     "execution_count": 33,
     "metadata": {},
     "output_type": "execute_result"
    }
   ],
   "source": []
  },
  {
   "cell_type": "code",
   "execution_count": null,
   "id": "a6db202d",
   "metadata": {},
   "outputs": [],
   "source": []
  }
 ],
 "metadata": {
  "kernelspec": {
   "display_name": "Python 3",
   "language": "python",
   "name": "python3"
  },
  "language_info": {
   "codemirror_mode": {
    "name": "ipython",
    "version": 3
   },
   "file_extension": ".py",
   "mimetype": "text/x-python",
   "name": "python",
   "nbconvert_exporter": "python",
   "pygments_lexer": "ipython3",
   "version": "3.9.1"
  }
 },
 "nbformat": 4,
 "nbformat_minor": 5
}
